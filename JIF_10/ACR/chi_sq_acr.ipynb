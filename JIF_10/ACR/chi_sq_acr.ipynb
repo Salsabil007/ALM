{
 "cells": [
  {
   "cell_type": "code",
   "execution_count": 1,
   "id": "455b41e6",
   "metadata": {},
   "outputs": [
    {
     "name": "stderr",
     "output_type": "stream",
     "text": [
      "/home/arabi/anaconda3/lib/python3.8/site-packages/scipy/__init__.py:138: UserWarning: A NumPy version >=1.16.5 and <1.23.0 is required for this version of SciPy (detected version 1.23.4)\n",
      "  warnings.warn(f\"A NumPy version >={np_minversion} and <{np_maxversion} is required for this version of \"\n"
     ]
    }
   ],
   "source": [
    "import pandas as pd\n",
    "import numpy as np\n",
    "from scipy.stats import chi2_contingency"
   ]
  },
  {
   "cell_type": "code",
   "execution_count": 2,
   "id": "c1cc2968",
   "metadata": {},
   "outputs": [
    {
     "name": "stdout",
     "output_type": "stream",
     "text": [
      "50413\n"
     ]
    }
   ],
   "source": [
    "data = pd.read_csv(\"not_enough_credit_merged_acr_10.csv\")\n",
    "data = data.dropna(subset=['white','black','his','asi','oth'])\n",
    "print(len(data))\n",
    "#data.to_csv(\"not_enough_credit_merged_acr_10_no_null_race.csv\")\n",
    "#print(data.isnull().sum())"
   ]
  },
  {
   "cell_type": "code",
   "execution_count": 3,
   "id": "b03e98a3",
   "metadata": {},
   "outputs": [
    {
     "name": "stdout",
     "output_type": "stream",
     "text": [
      "488   25   1719   71   6007   349   28169   1167\n",
      "chi sq stat  29.58018117473201  p value =  1.69116744576782e-06   3   [[3.93682985e+02 2.26693512e+01 1.81160847e+03 7.50391894e+01]\n",
      " [6.10131702e+03 3.51330649e+02 2.80763915e+04 1.16296081e+03]]\n"
     ]
    }
   ],
   "source": [
    "glm_bet = data[data.hits_acr < data.glam]\n",
    "hit_bet = data[data.hits_acr > data.glam]\n",
    "ga = glm_bet[glm_bet.asi > 0.50]\n",
    "gb = glm_bet[glm_bet.black > 0.50]\n",
    "\n",
    "gw = glm_bet[glm_bet.white > 0.50]\n",
    "ha = hit_bet[hit_bet.asi > 0.50]\n",
    "hb = hit_bet[hit_bet.black > 0.50]\n",
    "hw = hit_bet[hit_bet.white > 0.50]\n",
    "gh = glm_bet[glm_bet.his > 0.50]\n",
    "hh = hit_bet[hit_bet.his > 0.50]\n",
    "print(len(ga),\" \",len(gb),' ',len(gw),\" \",len(gh),\" \",len(ha),\" \",len(hb),\" \",len(hw),\" \",len(hh))\n",
    "table = [[len(ga),len(gb),len(gw),len(gh)],[len(ha),len(hb),len(hw),len(hh)]]\n",
    "stat, p, dof, expected = chi2_contingency(table)\n",
    "print(\"chi sq stat \",stat,\" p value = \",p,\" \",dof,\" \",expected)"
   ]
  },
  {
   "cell_type": "code",
   "execution_count": 4,
   "id": "34ffe930",
   "metadata": {},
   "outputs": [
    {
     "name": "stdout",
     "output_type": "stream",
     "text": [
      "677   1331   11802   19947\n",
      "chi sq stat  9.542046364425303  p val  0.002008177223663631   1   [[  742.3003229  1265.6996771]\n",
      " [11736.6996771 20012.3003229]]\n"
     ]
    }
   ],
   "source": [
    "data = pd.read_csv(\"not_enough_credit_merged_acr_10.csv\")\n",
    "glm_bet = data[data.hits_acr < data.glam]\n",
    "hit_bet = data[data.hits_acr > data.glam]\n",
    "\n",
    "glm_bet = glm_bet.dropna(subset=['female','male'])\n",
    "gender = [\"Female\" if glm_bet['female'][ind] > glm_bet['male'][ind] else \"Male\" for ind in glm_bet.index]\n",
    "glm_bet['gender'] = gender\n",
    "gm = glm_bet[glm_bet.gender == \"Male\"]\n",
    "gf = glm_bet[glm_bet.gender == \"Female\"]\n",
    "\n",
    "\n",
    "hit_bet = hit_bet.dropna(subset=['female','male'])\n",
    "gender = [\"Female\" if hit_bet['female'][ind] > hit_bet['male'][ind] else \"Male\" for ind in hit_bet.index]\n",
    "hit_bet['gender'] = gender\n",
    "hm = hit_bet[hit_bet.gender == \"Male\"]\n",
    "hf = hit_bet[hit_bet.gender == \"Female\"]\n",
    "\n",
    "print(len(gf),\" \",len(gm),\" \",len(hf),\" \",len(hm))\n",
    "table = [[len(gf),len(gm)],[len(hf),len(hm)]]\n",
    "stat, p, dof, expected = chi2_contingency(table)\n",
    "print(\"chi sq stat \",stat,\" p val \",p,\" \",dof,\" \",expected)"
   ]
  },
  {
   "cell_type": "code",
   "execution_count": 12,
   "id": "47aa136d",
   "metadata": {},
   "outputs": [
    {
     "name": "stdout",
     "output_type": "stream",
     "text": [
      "100   219   2034   921   3188   32184\n",
      "printing results \n",
      "chi sq stat  26.454100390495423  p val =  1.8012130646396142e-06   2   [[   62.16459659   207.43857062  2083.39683279]\n",
      " [  958.83540341  3199.56142938 32134.60316721]]\n"
     ]
    },
    {
     "name": "stderr",
     "output_type": "stream",
     "text": [
      "<ipython-input-12-b38525afb18c>:3: SettingWithCopyWarning: \n",
      "A value is trying to be set on a copy of a slice from a DataFrame.\n",
      "Try using .loc[row_indexer,col_indexer] = value instead\n",
      "\n",
      "See the caveats in the documentation: https://pandas.pydata.org/pandas-docs/stable/user_guide/indexing.html#returning-a-view-versus-a-copy\n",
      "  glm_bet['age'] =glm_bet['endyear'] - glm_bet['startyear']\n",
      "<ipython-input-12-b38525afb18c>:4: SettingWithCopyWarning: \n",
      "A value is trying to be set on a copy of a slice from a DataFrame.\n",
      "Try using .loc[row_indexer,col_indexer] = value instead\n",
      "\n",
      "See the caveats in the documentation: https://pandas.pydata.org/pandas-docs/stable/user_guide/indexing.html#returning-a-view-versus-a-copy\n",
      "  hit_bet['age'] =hit_bet['endyear'] - hit_bet['startyear']\n"
     ]
    }
   ],
   "source": [
    "glm_bet = data[data.hits_acr < data.glam]\n",
    "hit_bet = data[data.hits_acr > data.glam]\n",
    "glm_bet['age'] =glm_bet['endyear'] - glm_bet['startyear']\n",
    "hit_bet['age'] =hit_bet['endyear'] - hit_bet['startyear']\n",
    "a = len(glm_bet)\n",
    "b = len(hit_bet)\n",
    "\n",
    "\n",
    "glm_bet_early = glm_bet[glm_bet.age <= 5]\n",
    "glm_bet_senior = glm_bet[glm_bet.age > 10]\n",
    "glm_bet_mid = glm_bet[glm_bet.age <= 10]\n",
    "glm_bet_mid = glm_bet_mid[glm_bet_mid.age > 5]\n",
    "\n",
    "ga = len(glm_bet_early)\n",
    "gb = len(glm_bet_mid)\n",
    "gc = len(glm_bet_senior)\n",
    "\n",
    "hit_bet_early = hit_bet[hit_bet.age <= 5]\n",
    "hit_bet_senior = hit_bet[hit_bet.age > 10]\n",
    "hit_bet_mid = hit_bet[hit_bet.age <= 10]\n",
    "hit_bet_mid = hit_bet_mid[hit_bet_mid.age > 5]\n",
    "\n",
    "ha = len(hit_bet_early)\n",
    "hb = len(hit_bet_mid)\n",
    "hc = len(hit_bet_senior)\n",
    "print(ga,\" \",gb, \" \",gc,\" \",ha,\" \",hb,\" \",hc)\n",
    "table = [[ga,gb,gc],[ha,hb,hc]]\n",
    "print(\"printing results \")\n",
    "stat, p, dof, expected = chi2_contingency(table)\n",
    "print(\"chi sq stat \",stat,\" p val = \",p,\" \",dof,\" \",expected)"
   ]
  },
  {
   "cell_type": "code",
   "execution_count": 3,
   "id": "8e0f03d1",
   "metadata": {},
   "outputs": [
    {
     "name": "stdout",
     "output_type": "stream",
     "text": [
      "398   1314   16976   853   2767   20638\n",
      "printing results \n",
      "322.34244141453394   1.0097833494173761e-70   2   [[  544.37405113  1775.85172077 16367.7742281 ]\n",
      " [  706.62594887  2305.14827923 21246.2257719 ]]\n"
     ]
    },
    {
     "name": "stderr",
     "output_type": "stream",
     "text": [
      "<ipython-input-3-91ca26d5f151>:3: SettingWithCopyWarning: \n",
      "A value is trying to be set on a copy of a slice from a DataFrame.\n",
      "Try using .loc[row_indexer,col_indexer] = value instead\n",
      "\n",
      "See the caveats in the documentation: https://pandas.pydata.org/pandas-docs/stable/user_guide/indexing.html#returning-a-view-versus-a-copy\n",
      "  glm_bet['age'] =glm_bet['endyear'] - glm_bet['startyear']\n",
      "<ipython-input-3-91ca26d5f151>:4: SettingWithCopyWarning: \n",
      "A value is trying to be set on a copy of a slice from a DataFrame.\n",
      "Try using .loc[row_indexer,col_indexer] = value instead\n",
      "\n",
      "See the caveats in the documentation: https://pandas.pydata.org/pandas-docs/stable/user_guide/indexing.html#returning-a-view-versus-a-copy\n",
      "  hit_bet['age'] =hit_bet['endyear'] - hit_bet['startyear']\n"
     ]
    }
   ],
   "source": [
    "glm_bet = data[data.hits_rank < data.glam_rank]\n",
    "hit_bet = data[data.hits_rank > data.glam_rank]\n",
    "glm_bet['age'] =glm_bet['endyear'] - glm_bet['startyear']\n",
    "hit_bet['age'] =hit_bet['endyear'] - hit_bet['startyear']\n",
    "a = len(glm_bet)\n",
    "b = len(hit_bet)\n",
    "\n",
    "\n",
    "glm_bet_early = glm_bet[glm_bet.age <= 5]\n",
    "glm_bet_senior = glm_bet[glm_bet.age > 10]\n",
    "glm_bet_mid = glm_bet[glm_bet.age <= 10]\n",
    "glm_bet_mid = glm_bet_mid[glm_bet_mid.age > 5]\n",
    "\n",
    "ga = len(glm_bet_early)\n",
    "gb = len(glm_bet_mid)\n",
    "gc = len(glm_bet_senior)\n",
    "\n",
    "hit_bet_early = hit_bet[hit_bet.age <= 5]\n",
    "hit_bet_senior = hit_bet[hit_bet.age > 10]\n",
    "hit_bet_mid = hit_bet[hit_bet.age <= 10]\n",
    "hit_bet_mid = hit_bet_mid[hit_bet_mid.age > 5]\n",
    "\n",
    "ha = len(hit_bet_early)\n",
    "hb = len(hit_bet_mid)\n",
    "hc = len(hit_bet_senior)\n",
    "print(ga,\" \",gb, \" \",gc,\" \",ha,\" \",hb,\" \",hc)\n",
    "table = [[ga,gb,gc],[ha,hb,hc]]\n",
    "print(\"printing results \")\n",
    "stat, p, dof, expected = chi2_contingency(table)\n",
    "print(stat,\" \",p,\" \",dof,\" \",expected)"
   ]
  },
  {
   "cell_type": "code",
   "execution_count": null,
   "id": "fdee7f77",
   "metadata": {},
   "outputs": [],
   "source": []
  }
 ],
 "metadata": {
  "kernelspec": {
   "display_name": "Python 3",
   "language": "python",
   "name": "python3"
  },
  "language_info": {
   "codemirror_mode": {
    "name": "ipython",
    "version": 3
   },
   "file_extension": ".py",
   "mimetype": "text/x-python",
   "name": "python",
   "nbconvert_exporter": "python",
   "pygments_lexer": "ipython3",
   "version": "3.8.8"
  }
 },
 "nbformat": 4,
 "nbformat_minor": 5
}
