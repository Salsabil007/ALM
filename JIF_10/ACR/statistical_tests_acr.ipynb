{
 "cells": [
  {
   "cell_type": "code",
   "execution_count": 1,
   "id": "1f2e46fa",
   "metadata": {},
   "outputs": [
    {
     "name": "stderr",
     "output_type": "stream",
     "text": [
      "/home/arabi/anaconda3/lib/python3.8/site-packages/scipy/__init__.py:138: UserWarning: A NumPy version >=1.16.5 and <1.23.0 is required for this version of SciPy (detected version 1.23.4)\n",
      "  warnings.warn(f\"A NumPy version >={np_minversion} and <{np_maxversion} is required for this version of \"\n"
     ]
    }
   ],
   "source": [
    "import pandas as pd\n",
    "import numpy as np\n",
    "import matplotlib.pyplot as plt\n",
    "import seaborn as sns\n",
    "import matplotlib.ticker as ticker\n",
    "import math\n",
    "import scipy.stats\n",
    "from scipy import stats\n",
    "from scipy.stats import mannwhitneyu\n",
    "from statsmodels.stats.proportion import proportions_ztest\n",
    "import statsmodels.stats.api as sms"
   ]
  },
  {
   "cell_type": "code",
   "execution_count": 2,
   "id": "a2a4d15c",
   "metadata": {},
   "outputs": [
    {
     "name": "stdout",
     "output_type": "stream",
     "text": [
      "url                  object\n",
      "startyear             int64\n",
      "endyear               int64\n",
      "decade                int64\n",
      "hits                float64\n",
      "glam                float64\n",
      "hits_rank           float64\n",
      "glam_rank           float64\n",
      "rcr_median          float64\n",
      "appl                  int64\n",
      "surname              object\n",
      "forename             object\n",
      "forename_longest     object\n",
      "male                float64\n",
      "female              float64\n",
      "white               float64\n",
      "black               float64\n",
      "his                 float64\n",
      "asi                 float64\n",
      "oth                 float64\n",
      "art_better             bool\n",
      "journ_better           bool\n",
      "art_journ_same         bool\n",
      "hits_acr            float64\n",
      "dtype: object\n"
     ]
    }
   ],
   "source": [
    "data = pd.read_csv(\"not_enough_credit_merged_acr_10.csv\")\n",
    "print(data.dtypes)"
   ]
  },
  {
   "cell_type": "code",
   "execution_count": 4,
   "id": "140f9318",
   "metadata": {},
   "outputs": [
    {
     "name": "stdout",
     "output_type": "stream",
     "text": [
      "length for R  786   2008   677   2008\n",
      "condition  786.0   1222.0   677.0   1331.0\n",
      "3.574174726576469\n",
      "0.0001756671341340708\n",
      "statistic  3.574174726576469  p val  0.0001756671341340708\n",
      "CI  0.08400303544284453   0.02456270160894831\n"
     ]
    }
   ],
   "source": [
    "##hypothesis testing. We will use z test for two independent sample proportion. we only do Z for proportion, not t.\n",
    "'''\n",
    "H0: proportion of female author in hit_better is same as proprotion of female author in glam_better.\n",
    "H1: proportion of female author in hit_better is higher than the proprotion of female author in glam_better.\n",
    "as the sample size is large, we can do z test. \n",
    "p1_: proportion of female in hit_better = (x1/n1)\n",
    "p2_: proportion of female in glam_better = (x2/n2)\n",
    "pooled proportion, p0 = (x1+x2)/(n1+n2)\n",
    "z = (p1_-p2_)/sqrt(p0 * (1-p0) * ((1/n1)+(1/n2)))\n",
    "Condition for the test:\n",
    " (1)The sample is randomly selected\n",
    " (2)There is only two options:\n",
    "        Being in the category\n",
    "        Not being in the category\n",
    " (3)The sample needs at least:\n",
    "        5 members in the category n1*p1_ >= 5 and n1*(1-p1_) >= 5 and n2*p2_ >= 5 and n2*(1-p2) >= 5\n",
    "        5 members not in the category\n",
    "https://sixsigmastudyguide.com/two-sample-test-of-proportions/'''\n",
    "\n",
    "\n",
    "glm_bet = data[data.hits_acr < data.glam]\n",
    "hit_bet = data[data.hits_acr > data.glam]\n",
    "\n",
    "glm_bet = glm_bet.dropna(subset=['female','male'])\n",
    "gender = [\"Female\" if glm_bet['female'][ind] > glm_bet['male'][ind] else \"Male\" for ind in glm_bet.index]\n",
    "glm_bet['gender'] = gender\n",
    "\n",
    "hit_bet = hit_bet.dropna(subset=['female','male'])\n",
    "gender = [\"Female\" if hit_bet['female'][ind] > hit_bet['male'][ind] else \"Male\" for ind in hit_bet.index]\n",
    "hit_bet['gender'] = gender\n",
    "\n",
    "hit_bet = hit_bet.sample(n=len(glm_bet), replace = False,random_state=1)\n",
    "x1 = len(hit_bet[hit_bet.gender == \"Female\"])\n",
    "n1 = len(hit_bet)\n",
    "x2 = len(glm_bet[glm_bet.gender == \"Female\"])\n",
    "n2 = len(glm_bet)\n",
    "print(\"length for R \",x1,\" \",n1,\" \",x2,\" \",n2)\n",
    "p1_ = x1/n1\n",
    "p2_ = x2/n2\n",
    "print(\"condition \",n1*p1_,\" \",n1*(1-p1_),\" \",n2*p2_,\" \",n2*(1-p2_))\n",
    "p0 = (x1+x2)/(n1+n2)\n",
    "se = p0 * (1 - p0)*((1/n1)+(1/n2))\n",
    "se = math.sqrt(se)\n",
    "z = (p1_ - p2_)/se\n",
    "print(z)\n",
    "p_value = scipy.stats.norm.sf(z)\n",
    "print(p_value)\n",
    "\n",
    "\n",
    "successes = np.array([x1, x2])\n",
    "samples = np.array([n1, n2])\n",
    "stat, p_value = proportions_ztest(count=successes, nobs=samples,  alternative='larger')\n",
    "print(\"statistic \",stat,\" p val \",p_value)\n",
    "\n",
    "se = math.sqrt(((p1_*(1-p1_))/n1) + ((p2_*(1-p2_))/n2))\n",
    "print(\"CI \",(p1_-p2_)+(1.96*se),\" \",(p1_-p2_)-(1.96*se))"
   ]
  },
  {
   "cell_type": "code",
   "execution_count": 5,
   "id": "eed7a43c",
   "metadata": {},
   "outputs": [
    {
     "name": "stdout",
     "output_type": "stream",
     "text": [
      "length for R  6737   16120   5243   16120\n",
      "condition  6737.0   9383.0   5243.0   10877.0\n",
      "17.218685135606655\n",
      "9.615378691402774e-67\n",
      "statistic  17.218685135606655  p val  9.615378691402774e-67\n",
      "CI  0.10318101768337334   0.08217878380546034\n"
     ]
    }
   ],
   "source": [
    "glm_bet = data[data.hits_rank < data.glam_rank]\n",
    "hit_bet = data[data.hits_rank > data.glam_rank]\n",
    "\n",
    "glm_bet = glm_bet.dropna(subset=['female','male'])\n",
    "gender = [\"Female\" if glm_bet['female'][ind] > glm_bet['male'][ind] else \"Male\" for ind in glm_bet.index]\n",
    "glm_bet['gender'] = gender\n",
    "\n",
    "hit_bet = hit_bet.dropna(subset=['female','male'])\n",
    "gender = [\"Female\" if hit_bet['female'][ind] > hit_bet['male'][ind] else \"Male\" for ind in hit_bet.index]\n",
    "hit_bet['gender'] = gender\n",
    "\n",
    "hit_bet = hit_bet.sample(n=len(glm_bet), replace = False)\n",
    "x1 = len(hit_bet[hit_bet.gender == \"Female\"])\n",
    "n1 = len(hit_bet)\n",
    "x2 = len(glm_bet[glm_bet.gender == \"Female\"])\n",
    "n2 = len(glm_bet)\n",
    "print(\"length for R \",x1,\" \",n1,\" \",x2,\" \",n2)\n",
    "p1_ = x1/n1\n",
    "p2_ = x2/n2\n",
    "print(\"condition \",n1*p1_,\" \",n1*(1-p1_),\" \",n2*p2_,\" \",n2*(1-p2_))\n",
    "p0 = (x1+x2)/(n1+n2)\n",
    "se = p0 * (1 - p0)*((1/n1)+(1/n2))\n",
    "se = math.sqrt(se)\n",
    "z = (p1_ - p2_)/se\n",
    "print(z)\n",
    "p_value = scipy.stats.norm.sf(abs(z))\n",
    "print(p_value)\n",
    "\n",
    "\n",
    "successes = np.array([x1, x2])\n",
    "samples = np.array([n1, n2])\n",
    "stat, p_value = proportions_ztest(count=successes, nobs=samples,  alternative='larger')\n",
    "print(\"statistic \",stat,\" p val \",p_value)\n",
    "\n",
    "se = math.sqrt(((p1_*(1-p1_))/n1) + ((p2_*(1-p2_))/n2))\n",
    "print(\"CI \",(p1_-p2_)+(1.96*se),\" \",(p1_-p2_)-(1.96*se))"
   ]
  },
  {
   "cell_type": "code",
   "execution_count": null,
   "id": "346cde98",
   "metadata": {},
   "outputs": [],
   "source": []
  }
 ],
 "metadata": {
  "kernelspec": {
   "display_name": "Python 3",
   "language": "python",
   "name": "python3"
  },
  "language_info": {
   "codemirror_mode": {
    "name": "ipython",
    "version": 3
   },
   "file_extension": ".py",
   "mimetype": "text/x-python",
   "name": "python",
   "nbconvert_exporter": "python",
   "pygments_lexer": "ipython3",
   "version": "3.8.8"
  }
 },
 "nbformat": 4,
 "nbformat_minor": 5
}
