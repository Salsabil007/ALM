{
 "cells": [
  {
   "cell_type": "code",
   "execution_count": 2,
   "id": "d911a159",
   "metadata": {},
   "outputs": [],
   "source": [
    "import pandas as pd\n",
    "import numpy as np\n",
    "import matplotlib.pyplot as plt\n",
    "import seaborn as sns\n",
    "import matplotlib.ticker as ticker\n",
    "import math\n",
    "#import scipy.stats\n",
    "from scipy import stats\n",
    "from scipy.stats import mannwhitneyu\n",
    "from statsmodels.stats.proportion import proportions_ztest\n",
    "import statsmodels.stats.api as sms"
   ]
  },
  {
   "cell_type": "code",
   "execution_count": 7,
   "id": "edb72954",
   "metadata": {},
   "outputs": [
    {
     "name": "stdout",
     "output_type": "stream",
     "text": [
      "50422\n",
      "50422\n",
      "printing for mid career\n",
      "Ttest_relResult(statistic=53.00547795151053, pvalue=0.0)\n",
      "xd  0.1258723994915918\n",
      "sd  0.17275064359118592\n",
      "53.00547795151044\n",
      "0.07856751849874763\n",
      "0.20443991799033956\n"
     ]
    }
   ],
   "source": [
    "data = pd.read_csv(\"not_enough_credit_merged_acr_10.csv\")\n",
    "print(len(data))\n",
    "#data = data[data.hits != data.glam]\n",
    "print(len(data))\n",
    "data['age'] =data['endyear'] - data['startyear']\n",
    "\n",
    "early = data[data.age <= 5]\n",
    "senior = data[data.age > 10]\n",
    "mid = data[data.age <= 10]\n",
    "mid = mid[mid.age > 5]\n",
    "\n",
    "#mid.to_csv(\"for_R_paired.csv\", index = False)\n",
    "\n",
    "'''data['dif'] = data['hits_acr'] - data['glam']\n",
    "data['dif'].hist()'''\n",
    "\n",
    "#w, pvalue = stats.shapiro(data['dif'])\n",
    "#print(w,\" pvalue \", pvalue)\n",
    "\n",
    "print(\"printing for mid career\")\n",
    "print(stats.ttest_rel(mid['hits_acr'], mid['glam'], alternative='greater')) #two-sided #greater\n",
    "\n",
    "\n",
    "com = mid.copy()\n",
    "com['dif'] = com['hits_acr'] - com['glam']\n",
    "mn = com['dif'].mean() ##xd\n",
    "print(\"xd \",mn)\n",
    "com['dif'] = com['dif'] - mn\n",
    "com['dif'] = com['dif'] * com['dif']\n",
    "a = com['dif'].sum()\n",
    "a = a/(len(com)-1)\n",
    "a = math.sqrt(a) ##sd\n",
    "print(\"sd \",a)\n",
    "t = mn/(a/math.sqrt(len(com)))\n",
    "print(t)\n",
    "#print(\"df \",len(com)-1)\n",
    "#data['glam'].isnull().values.any()\n",
    "print(com['glam'].mean())\n",
    "print(com['hits_acr'].mean())"
   ]
  },
  {
   "cell_type": "code",
   "execution_count": 8,
   "id": "6ae11eed",
   "metadata": {},
   "outputs": [
    {
     "name": "stdout",
     "output_type": "stream",
     "text": [
      "50422\n",
      "50422\n",
      "printing for early\n",
      "Ttest_relResult(statistic=22.896843883824445, pvalue=6.466218621254444e-106)\n",
      "xd  0.11715581219724253\n",
      "sd  0.2575677720911048\n",
      "22.896843883824403\n",
      "0.07805463168492227\n",
      "0.19521044388216444\n"
     ]
    }
   ],
   "source": [
    "data = pd.read_csv(\"not_enough_credit_merged_acr_10.csv\")\n",
    "print(len(data))\n",
    "#data = data[data.hits != data.glam]\n",
    "print(len(data))\n",
    "data['age'] =data['endyear'] - data['startyear']\n",
    "\n",
    "early = data[data.age <= 5]\n",
    "senior = data[data.age > 10]\n",
    "mid = data[data.age <= 10]\n",
    "mid = mid[mid.age > 5]\n",
    "\n",
    "\n",
    "\n",
    "'''data['dif'] = data['hits_acr'] - data['glam']\n",
    "data['dif'].hist()'''\n",
    "\n",
    "#w, pvalue = stats.shapiro(data['dif'])\n",
    "#print(w,\" pvalue \", pvalue)\n",
    "\n",
    "print(\"printing for early\")\n",
    "print(stats.ttest_rel(early['hits_acr'], early['glam'], alternative='greater'))\n",
    "\n",
    "\n",
    "com = early.copy()\n",
    "com['dif'] = com['hits_acr'] - com['glam']\n",
    "mn = com['dif'].mean() ##xd\n",
    "print(\"xd \",mn)\n",
    "com['dif'] = com['dif'] - mn\n",
    "com['dif'] = com['dif'] * com['dif']\n",
    "a = com['dif'].sum()\n",
    "a = a/(len(com)-1)\n",
    "a = math.sqrt(a) ##sd\n",
    "print(\"sd \",a)\n",
    "t = mn/(a/math.sqrt(len(com)))\n",
    "print(t)\n",
    "#print(\"df \",len(com)-1)\n",
    "#data['glam'].isnull().values.any()\n",
    "print(com['glam'].mean())\n",
    "print(com['hits_acr'].mean())"
   ]
  },
  {
   "cell_type": "code",
   "execution_count": 6,
   "id": "ec1c94b3",
   "metadata": {},
   "outputs": [
    {
     "name": "stdout",
     "output_type": "stream",
     "text": [
      "50422\n",
      "50422\n",
      "printing for senior\n",
      "Ttest_relResult(statistic=190.75901385303115, pvalue=0.0)\n",
      "xd  0.12030218753201022\n",
      "sd  0.1301585989129711\n",
      "t value  190.75901385302282\n",
      "df  42595\n",
      "0.08460935740251627\n",
      "0.20491154493453087\n"
     ]
    },
    {
     "data": {
      "image/png": "[encoded data removed]",
      "text/plain": [
       "<Figure size 432x288 with 1 Axes>"
      ]
     },
     "metadata": {
      "needs_background": "light"
     },
     "output_type": "display_data"
    }
   ],
   "source": [
    "data = pd.read_csv(\"not_enough_credit_merged_acr_10.csv\")\n",
    "print(len(data))\n",
    "#data = data[data.hits != data.glam]\n",
    "print(len(data))\n",
    "data['age'] =data['endyear'] - data['startyear']\n",
    "\n",
    "early = data[data.age <= 5]\n",
    "senior = data[data.age > 10]\n",
    "mid = data[data.age <= 10]\n",
    "mid = mid[mid.age > 5]\n",
    "\n",
    "\n",
    "\n",
    "#data['dif'] = data['hits_acr'] - data['glam']\n",
    "#data['dif'].hist()\n",
    "\n",
    "#w, pvalue = stats.shapiro(data['dif'])\n",
    "#print(w,\" pvalue \", pvalue)\n",
    "\n",
    "print(\"printing for senior\")\n",
    "print(stats.ttest_rel(senior['hits_acr'], senior['glam'], alternative='greater'))\n",
    "\n",
    "\n",
    "com = senior.copy()\n",
    "com['dif'] = com['hits_acr'] - com['glam']\n",
    "mn = com['dif'].mean() ##xd\n",
    "print(\"xd \",mn)\n",
    "com['dif'] = com['dif'] - mn\n",
    "com['dif'] = com['dif'] * com['dif']\n",
    "a = com['dif'].sum()\n",
    "a = a/(len(com)-1)\n",
    "a = math.sqrt(a) ##sd\n",
    "print(\"sd \",a)\n",
    "t = mn/(a/math.sqrt(len(com)))\n",
    "print(\"t value \",t)\n",
    "#print(\"df \",len(com)-1)\n",
    "#data['glam'].isnull().values.any()\n",
    "print(com['glam'].mean())\n",
    "print(com['hits_acr'].mean())"
   ]
  },
  {
   "cell_type": "code",
   "execution_count": null,
   "id": "23de559e",
   "metadata": {},
   "outputs": [],
   "source": []
  }
 ],
 "metadata": {
  "kernelspec": {
   "display_name": "Python 3",
   "language": "python",
   "name": "python3"
  },
  "language_info": {
   "codemirror_mode": {
    "name": "ipython",
    "version": 3
   },
   "file_extension": ".py",
   "mimetype": "text/x-python",
   "name": "python",
   "nbconvert_exporter": "python",
   "pygments_lexer": "ipython3",
   "version": "3.8.8"
  }
 },
 "nbformat": 4,
 "nbformat_minor": 5
}
