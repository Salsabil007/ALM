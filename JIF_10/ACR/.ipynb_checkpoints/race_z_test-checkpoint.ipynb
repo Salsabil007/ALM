{
 "cells": [
  {
   "cell_type": "code",
   "execution_count": 1,
   "id": "81519178",
   "metadata": {},
   "outputs": [
    {
     "name": "stderr",
     "output_type": "stream",
     "text": [
      "/home/arabi/anaconda3/lib/python3.8/site-packages/scipy/__init__.py:138: UserWarning: A NumPy version >=1.16.5 and <1.23.0 is required for this version of SciPy (detected version 1.23.4)\n",
      "  warnings.warn(f\"A NumPy version >={np_minversion} and <{np_maxversion} is required for this version of \"\n"
     ]
    }
   ],
   "source": [
    "import pandas as pd\n",
    "import numpy as np\n",
    "import matplotlib.pyplot as plt\n",
    "import seaborn as sns\n",
    "import matplotlib.ticker as ticker\n",
    "import math\n",
    "import scipy.stats\n",
    "from scipy import stats\n",
    "from scipy.stats import mannwhitneyu\n",
    "from statsmodels.stats.proportion import proportions_ztest\n",
    "import statsmodels.stats.api as sms"
   ]
  },
  {
   "cell_type": "code",
   "execution_count": 12,
   "id": "71f9f759",
   "metadata": {},
   "outputs": [
    {
     "name": "stdout",
     "output_type": "stream",
     "text": [
      "50422\n",
      "50413\n"
     ]
    }
   ],
   "source": [
    "data = pd.read_csv(\"not_enough_credit_merged_acr_10.csv\")\n",
    "print(len(data))\n",
    "data = data.dropna(subset=['white','black','his','asi','oth'])\n",
    "print(len(data))\n",
    "data.to_csv(\"not_enough_credit_merged_acr_10_no_null_race.csv\", index = False)"
   ]
  },
  {
   "cell_type": "markdown",
   "id": "9d0a4684",
   "metadata": {},
   "source": [
    "If your alternative hypothesis is p1 > p2, you use the raw value of z\n",
    "\n",
    "If your alternative hypothesis is p1 < p2, you use the raw value of z\n",
    "\n",
    "If your alternative hypothesis is p1 != p2, you use the abs(z)\n",
    "\n",
    "for P1 > p2 or p1 != p2 as alternative, z = (p1 - p2)/se\n",
    "\n",
    "for P1 < p2 as alternative, z = (p2 - p1)/se"
   ]
  },
  {
   "cell_type": "code",
   "execution_count": 13,
   "id": "ff8bd079",
   "metadata": {},
   "outputs": [],
   "source": [
    "glm_bet = data[data.hits_acr < data.glam]\n",
    "hit_bet = data[data.hits_acr > data.glam]\n",
    "ga = glm_bet[glm_bet.asi > 0.50]\n",
    "gb = glm_bet[glm_bet.black > 0.50]\n",
    "gw = glm_bet[glm_bet.white > 0.50]\n",
    "ha = hit_bet[hit_bet.asi > 0.50]\n",
    "hb = hit_bet[hit_bet.black > 0.50]\n",
    "hw = hit_bet[hit_bet.white > 0.50]\n",
    "gh = glm_bet[glm_bet.his > 0.50]\n",
    "hh = hit_bet[hit_bet.his > 0.50]"
   ]
  },
  {
   "cell_type": "code",
   "execution_count": 19,
   "id": "e7e3e30d",
   "metadata": {},
   "outputs": [
    {
     "name": "stdout",
     "output_type": "stream",
     "text": [
      "x1  6007  n1  36293  x2  488  n2  2353  p1  0.16551401096630206  p2  0.20739481512962177\n",
      "z stat of mine  5.265054419118675  p value of my calculation  1.4014783732167456e-07\n",
      "statistic  -5.265054419118675  p val  1.4014783732167456e-07\n"
     ]
    }
   ],
   "source": [
    "#alternative smaller significant\n",
    "#Calculate the proportion of asian in journal\n",
    "x1 = len(ha)\n",
    "n1 = len(hit_bet)\n",
    "p1 = x1/n1\n",
    "\n",
    "#Calculate the proportion of asian in article\n",
    "x2 = len(ga)\n",
    "n2 = len(glm_bet)\n",
    "p2 = x2/n2\n",
    "\n",
    "print(\"x1 \",x1,\" n1 \", n1,\" x2 \",x2,\" n2 \",n2,\" p1 \",p1, \" p2 \",p2)\n",
    "\n",
    "#print(p1,\" \",p2)\n",
    "\n",
    "#calculate pooled proportion\n",
    "po = (x1+x2)/(n1+n2)\n",
    "\n",
    "#Calculate SE\n",
    "SE = po * (1 - po) * ((1/n1)+(1/n2))\n",
    "se = math.sqrt(SE)\n",
    "\n",
    "z = (p2-p1)/se\n",
    "\n",
    "#p_value = scipy.stats.norm.sf(z)\n",
    "p_value = scipy.stats.norm.sf(abs(z)) * 2\n",
    "print(\"z stat of mine \",z,\" p value of my calculation \",p_value)\n",
    "#print(scipy.stats.norm.cdf(z))\n",
    "#alpha = 0.05\n",
    "\n",
    "successes = np.array([x1, x2])\n",
    "samples = np.array([n1, n2])\n",
    "stat, p_value = proportions_ztest(count=successes, nobs=samples,  alternative='two-sided')\n",
    "print(\"statistic \",stat,\" p val \",p_value)"
   ]
  },
  {
   "cell_type": "code",
   "execution_count": 16,
   "id": "0b701da0",
   "metadata": {},
   "outputs": [
    {
     "name": "stdout",
     "output_type": "stream",
     "text": [
      "x1  349  n1  36293  x2  25  n2  2353  p1  0.009616179428539939  p2  0.010624734381640459\n",
      "z stat of mine  -0.4842814780290718  p value of my calculation  0.6281861190558553\n",
      "statistic  -0.4842814780290718  p val  0.6281861190558553\n"
     ]
    }
   ],
   "source": [
    "#none is significant\n",
    "#Calculate the proportion of black in journal\n",
    "x1 = len(hb)\n",
    "n1 = len(hit_bet)\n",
    "p1 = x1/n1\n",
    "\n",
    "#Calculate the proportion of black in article\n",
    "x2 = len(gb)\n",
    "n2 = len(glm_bet)\n",
    "p2 = x2/n2\n",
    "\n",
    "print(\"x1 \",x1,\" n1 \", n1,\" x2 \",x2,\" n2 \",n2,\" p1 \",p1, \" p2 \",p2)\n",
    "\n",
    "#print(p1,\" \",p2)\n",
    "\n",
    "#calculate pooled proportion\n",
    "po = (x1+x2)/(n1+n2)\n",
    "\n",
    "#Calculate SE\n",
    "SE = po * (1 - po) * ((1/n1)+(1/n2))\n",
    "se = math.sqrt(SE)\n",
    "\n",
    "z = (p1-p2)/se\n",
    "\n",
    "#p_value = scipy.stats.norm.sf(z)\n",
    "p_value = scipy.stats.norm.sf(abs(z)) * 2\n",
    "\n",
    "print(\"z stat of mine \",z,\" p value of my calculation \",p_value)\n",
    "#print(scipy.stats.norm.cdf(z))\n",
    "#alpha = 0.05\n",
    "\n",
    "successes = np.array([x1, x2])\n",
    "samples = np.array([n1, n2])\n",
    "stat, p_value = proportions_ztest(count=successes, nobs=samples,  alternative='two-sided')\n",
    "print(\"statistic \",stat,\" p val \",p_value)"
   ]
  },
  {
   "cell_type": "code",
   "execution_count": 20,
   "id": "3de98305",
   "metadata": {},
   "outputs": [
    {
     "name": "stdout",
     "output_type": "stream",
     "text": [
      "x1  28169  n1  36293  x2  1719  n2  2353  p1  0.7761551814399471  p2  0.730556736081598\n",
      "z stat of mine  5.120045389201206  p value of my calculation  3.0546212778453507e-07\n",
      "statistic  5.120045389201206  p val  3.0546212778453507e-07\n"
     ]
    }
   ],
   "source": [
    "#larger significant\n",
    "#Calculate the proportion of black in journal\n",
    "x1 = len(hw)\n",
    "n1 = len(hit_bet)\n",
    "p1 = x1/n1\n",
    "\n",
    "#Calculate the proportion of black in article\n",
    "x2 = len(gw)\n",
    "n2 = len(glm_bet)\n",
    "p2 = x2/n2\n",
    "\n",
    "print(\"x1 \",x1,\" n1 \", n1,\" x2 \",x2,\" n2 \",n2,\" p1 \",p1, \" p2 \",p2)\n",
    "\n",
    "#print(p1,\" \",p2)\n",
    "\n",
    "#calculate pooled proportion\n",
    "po = (x1+x2)/(n1+n2)\n",
    "\n",
    "#Calculate SE\n",
    "SE = po * (1 - po) * ((1/n1)+(1/n2))\n",
    "se = math.sqrt(SE)\n",
    "\n",
    "z = (p1-p2)/se\n",
    "\n",
    "#p_value = scipy.stats.norm.sf(z)\n",
    "p_value = scipy.stats.norm.sf(abs(z)) * 2\n",
    "\n",
    "print(\"z stat of mine \",z,\" p value of my calculation \",p_value)\n",
    "#print(scipy.stats.norm.cdf(z))\n",
    "#alpha = 0.05\n",
    "\n",
    "successes = np.array([x1, x2])\n",
    "samples = np.array([n1, n2])\n",
    "stat, p_value = proportions_ztest(count=successes, nobs=samples,  alternative='two-sided')\n",
    "print(\"statistic \",stat,\" p val \",p_value)"
   ]
  },
  {
   "cell_type": "code",
   "execution_count": 21,
   "id": "c0905422",
   "metadata": {},
   "outputs": [
    {
     "name": "stdout",
     "output_type": "stream",
     "text": [
      "x1  1167  n1  36293  x2  71  n2  2353  p1  0.032154961011765355  p2  0.030174245643858903\n",
      "z stat of mine  0.5287546221440036  p value of my calculation  0.5969756802012506\n",
      "statistic  0.5287546221440036  p val  0.5969756802012506\n"
     ]
    }
   ],
   "source": [
    "#nothing is significant\n",
    "#Calculate the proportion of black in journal\n",
    "x1 = len(hh)\n",
    "n1 = len(hit_bet)\n",
    "p1 = x1/n1\n",
    "\n",
    "#Calculate the proportion of black in article\n",
    "x2 = len(gh)\n",
    "n2 = len(glm_bet)\n",
    "p2 = x2/n2\n",
    "\n",
    "print(\"x1 \",x1,\" n1 \", n1,\" x2 \",x2,\" n2 \",n2,\" p1 \",p1, \" p2 \",p2)\n",
    "\n",
    "#print(p1,\" \",p2)\n",
    "\n",
    "#calculate pooled proportion\n",
    "po = (x1+x2)/(n1+n2)\n",
    "\n",
    "#Calculate SE\n",
    "SE = po * (1 - po) * ((1/n1)+(1/n2))\n",
    "se = math.sqrt(SE)\n",
    "\n",
    "z = (p1-p2)/se\n",
    "\n",
    "#p_value = scipy.stats.norm.sf(z)\n",
    "p_value = scipy.stats.norm.sf(abs(z)) * 2\n",
    "\n",
    "print(\"z stat of mine \",z,\" p value of my calculation \",p_value)\n",
    "#print(scipy.stats.norm.cdf(z))\n",
    "#alpha = 0.05\n",
    "\n",
    "successes = np.array([x1, x2])\n",
    "samples = np.array([n1, n2])\n",
    "stat, p_value = proportions_ztest(count=successes, nobs=samples,  alternative='two-sided')\n",
    "print(\"statistic \",stat,\" p val \",p_value)"
   ]
  },
  {
   "cell_type": "markdown",
   "id": "9c3125f7",
   "metadata": {},
   "source": [
    "### Binomial Test"
   ]
  },
  {
   "cell_type": "code",
   "execution_count": 8,
   "id": "66799079",
   "metadata": {},
   "outputs": [
    {
     "name": "stdout",
     "output_type": "stream",
     "text": [
      "2.6171288880244878e-256\n"
     ]
    }
   ],
   "source": [
    "#greater significant\n",
    "total = len(hh) + len(gh)\n",
    "print(scipy.stats.binom_test(x = [len(hh)],n = total, p = 0.5, alternative = 'two-sided'))"
   ]
  },
  {
   "cell_type": "code",
   "execution_count": 9,
   "id": "43e3bc83",
   "metadata": {},
   "outputs": [
    {
     "name": "stdout",
     "output_type": "stream",
     "text": [
      "0.0\n"
     ]
    }
   ],
   "source": [
    "#greater significant\n",
    "total = len(ha) + len(ga)\n",
    "print(scipy.stats.binom_test(x = [len(ha)],n = total, p = 0.5, alternative = 'two-sided'))"
   ]
  },
  {
   "cell_type": "code",
   "execution_count": 10,
   "id": "c9b24389",
   "metadata": {},
   "outputs": [
    {
     "name": "stdout",
     "output_type": "stream",
     "text": [
      "3.33273629745624e-74\n"
     ]
    }
   ],
   "source": [
    "#greater significant\n",
    "total = len(hb) + len(gb)\n",
    "print(scipy.stats.binom_test(x = [len(hb)],n = total, p = 0.5, alternative = 'two-sided'))"
   ]
  },
  {
   "cell_type": "code",
   "execution_count": 11,
   "id": "8d928877",
   "metadata": {},
   "outputs": [
    {
     "name": "stdout",
     "output_type": "stream",
     "text": [
      "5e-324\n"
     ]
    }
   ],
   "source": [
    "#greater significant\n",
    "total = len(hw) + len(gw)\n",
    "print(scipy.stats.binom_test(x = [len(hw)],n = total, p = 0.5, alternative = 'two-sided'))"
   ]
  },
  {
   "cell_type": "code",
   "execution_count": null,
   "id": "83647199",
   "metadata": {},
   "outputs": [],
   "source": []
  }
 ],
 "metadata": {
  "kernelspec": {
   "display_name": "Python 3",
   "language": "python",
   "name": "python3"
  },
  "language_info": {
   "codemirror_mode": {
    "name": "ipython",
    "version": 3
   },
   "file_extension": ".py",
   "mimetype": "text/x-python",
   "name": "python",
   "nbconvert_exporter": "python",
   "pygments_lexer": "ipython3",
   "version": "3.8.8"
  }
 },
 "nbformat": 4,
 "nbformat_minor": 5
}
