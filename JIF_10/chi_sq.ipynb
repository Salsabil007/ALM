{
 "cells": [
  {
   "cell_type": "code",
   "execution_count": 1,
   "id": "455b41e6",
   "metadata": {},
   "outputs": [
    {
     "name": "stderr",
     "output_type": "stream",
     "text": [
      "/home/arabi/anaconda3/lib/python3.8/site-packages/scipy/__init__.py:138: UserWarning: A NumPy version >=1.16.5 and <1.23.0 is required for this version of SciPy (detected version 1.23.4)\n",
      "  warnings.warn(f\"A NumPy version >={np_minversion} and <{np_maxversion} is required for this version of \"\n"
     ]
    }
   ],
   "source": [
    "import pandas as pd\n",
    "import numpy as np\n",
    "from scipy.stats import chi2_contingency"
   ]
  },
  {
   "cell_type": "code",
   "execution_count": 2,
   "id": "c1cc2968",
   "metadata": {},
   "outputs": [],
   "source": [
    "data = pd.read_csv(\"not_enough_credit_JIF_10.csv\")"
   ]
  },
  {
   "cell_type": "code",
   "execution_count": 3,
   "id": "b03e98a3",
   "metadata": {},
   "outputs": [
    {
     "name": "stdout",
     "output_type": "stream",
     "text": [
      "923   41   3089   140   5581   349   27700   1177\n",
      "96.81756977973401  jj  7.510471124857204e-21   3   [[  699.26338462    41.93        3310.21223077   141.59438462]\n",
      " [ 5804.73661538   348.07       27478.78776923  1175.40561538]]\n"
     ]
    }
   ],
   "source": [
    "glm_bet = data[data.hits < data.glam]\n",
    "hit_bet = data[data.hits > data.glam]\n",
    "ga = glm_bet[glm_bet.asi > 0.50]\n",
    "gb = glm_bet[glm_bet.black > 0.50]\n",
    "\n",
    "gw = glm_bet[glm_bet.white > 0.50]\n",
    "ha = hit_bet[hit_bet.asi > 0.50]\n",
    "hb = hit_bet[hit_bet.black > 0.50]\n",
    "hw = hit_bet[hit_bet.white > 0.50]\n",
    "gh = glm_bet[glm_bet.his > 0.50]\n",
    "hh = hit_bet[hit_bet.his > 0.50]\n",
    "print(len(ga),\" \",len(gb),' ',len(gw),\" \",len(gh),\" \",len(ha),\" \",len(hb),\" \",len(hw),\" \",len(hh))\n",
    "table = [[len(ga),len(gb),len(gw),len(gh)],[len(ha),len(hb),len(hw),len(hh)]]\n",
    "stat, p, dof, expected = chi2_contingency(table)\n",
    "print(stat,\" jj \",p,\" \",dof,\" \",expected)"
   ]
  },
  {
   "cell_type": "code",
   "execution_count": 4,
   "id": "34ffe930",
   "metadata": {},
   "outputs": [
    {
     "name": "stdout",
     "output_type": "stream",
     "text": [
      "1147   2448   12033   19109\n",
      "61.77883111587916   3.842834850588465e-15   1   [[ 1364.02395141  2230.97604859]\n",
      " [11815.97604859 19326.02395141]]\n"
     ]
    }
   ],
   "source": [
    "glm_bet = data[data.hits < data.glam]\n",
    "hit_bet = data[data.hits > data.glam]\n",
    "\n",
    "glm_bet = glm_bet.dropna(subset=['female','male'])\n",
    "gender = [\"Female\" if glm_bet['female'][ind] > glm_bet['male'][ind] else \"Male\" for ind in glm_bet.index]\n",
    "glm_bet['gender'] = gender\n",
    "gm = glm_bet[glm_bet.gender == \"Male\"]\n",
    "gf = glm_bet[glm_bet.gender == \"Female\"]\n",
    "\n",
    "\n",
    "hit_bet = hit_bet.dropna(subset=['female','male'])\n",
    "gender = [\"Female\" if hit_bet['female'][ind] > hit_bet['male'][ind] else \"Male\" for ind in hit_bet.index]\n",
    "hit_bet['gender'] = gender\n",
    "hm = hit_bet[hit_bet.gender == \"Male\"]\n",
    "hf = hit_bet[hit_bet.gender == \"Female\"]\n",
    "\n",
    "print(len(gf),\" \",len(gm),\" \",len(hf),\" \",len(hm))\n",
    "table = [[len(gf),len(gm)],[len(hf),len(hm)]]\n",
    "stat, p, dof, expected = chi2_contingency(table)\n",
    "print(stat,\" \",p,\" \",dof,\" \",expected)"
   ]
  },
  {
   "cell_type": "code",
   "execution_count": 6,
   "id": "47aa136d",
   "metadata": {},
   "outputs": [
    {
     "name": "stdout",
     "output_type": "stream",
     "text": [
      "157   402   3717   904   3283   31212\n",
      "printing results \n",
      "18.566984011132437   9.29459882001133e-05   2   [[  114.3499937    397.15337114  3764.49663516]\n",
      " [  946.6500063   3287.84662886 31164.50336484]]\n"
     ]
    },
    {
     "name": "stderr",
     "output_type": "stream",
     "text": [
      "<ipython-input-6-62035ebf4107>:3: SettingWithCopyWarning: \n",
      "A value is trying to be set on a copy of a slice from a DataFrame.\n",
      "Try using .loc[row_indexer,col_indexer] = value instead\n",
      "\n",
      "See the caveats in the documentation: https://pandas.pydata.org/pandas-docs/stable/user_guide/indexing.html#returning-a-view-versus-a-copy\n",
      "  glm_bet['age'] =glm_bet['endyear'] - glm_bet['startyear']\n",
      "<ipython-input-6-62035ebf4107>:4: SettingWithCopyWarning: \n",
      "A value is trying to be set on a copy of a slice from a DataFrame.\n",
      "Try using .loc[row_indexer,col_indexer] = value instead\n",
      "\n",
      "See the caveats in the documentation: https://pandas.pydata.org/pandas-docs/stable/user_guide/indexing.html#returning-a-view-versus-a-copy\n",
      "  hit_bet['age'] =hit_bet['endyear'] - hit_bet['startyear']\n"
     ]
    }
   ],
   "source": [
    "glm_bet = data[data.hits < data.glam]\n",
    "hit_bet = data[data.hits > data.glam]\n",
    "glm_bet['age'] =glm_bet['endyear'] - glm_bet['startyear']\n",
    "hit_bet['age'] =hit_bet['endyear'] - hit_bet['startyear']\n",
    "a = len(glm_bet)\n",
    "b = len(hit_bet)\n",
    "\n",
    "\n",
    "glm_bet_early = glm_bet[glm_bet.age <= 5]\n",
    "glm_bet_senior = glm_bet[glm_bet.age > 10]\n",
    "glm_bet_mid = glm_bet[glm_bet.age <= 10]\n",
    "glm_bet_mid = glm_bet_mid[glm_bet_mid.age > 5]\n",
    "\n",
    "ga = len(glm_bet_early)\n",
    "gb = len(glm_bet_mid)\n",
    "gc = len(glm_bet_senior)\n",
    "\n",
    "hit_bet_early = hit_bet[hit_bet.age <= 5]\n",
    "hit_bet_senior = hit_bet[hit_bet.age > 10]\n",
    "hit_bet_mid = hit_bet[hit_bet.age <= 10]\n",
    "hit_bet_mid = hit_bet_mid[hit_bet_mid.age > 5]\n",
    "\n",
    "ha = len(hit_bet_early)\n",
    "hb = len(hit_bet_mid)\n",
    "hc = len(hit_bet_senior)\n",
    "print(ga,\" \",gb, \" \",gc,\" \",ha,\" \",hb,\" \",hc)\n",
    "table = [[ga,gb,gc],[ha,hb,hc]]\n",
    "print(\"printing results \")\n",
    "stat, p, dof, expected = chi2_contingency(table)\n",
    "print(stat,\" \",p,\" \",dof,\" \",expected)"
   ]
  },
  {
   "cell_type": "code",
   "execution_count": 3,
   "id": "8e0f03d1",
   "metadata": {},
   "outputs": [
    {
     "name": "stdout",
     "output_type": "stream",
     "text": [
      "398   1314   16976   853   2767   20638\n",
      "printing results \n",
      "322.34244141453394   1.0097833494173761e-70   2   [[  544.37405113  1775.85172077 16367.7742281 ]\n",
      " [  706.62594887  2305.14827923 21246.2257719 ]]\n"
     ]
    },
    {
     "name": "stderr",
     "output_type": "stream",
     "text": [
      "<ipython-input-3-91ca26d5f151>:3: SettingWithCopyWarning: \n",
      "A value is trying to be set on a copy of a slice from a DataFrame.\n",
      "Try using .loc[row_indexer,col_indexer] = value instead\n",
      "\n",
      "See the caveats in the documentation: https://pandas.pydata.org/pandas-docs/stable/user_guide/indexing.html#returning-a-view-versus-a-copy\n",
      "  glm_bet['age'] =glm_bet['endyear'] - glm_bet['startyear']\n",
      "<ipython-input-3-91ca26d5f151>:4: SettingWithCopyWarning: \n",
      "A value is trying to be set on a copy of a slice from a DataFrame.\n",
      "Try using .loc[row_indexer,col_indexer] = value instead\n",
      "\n",
      "See the caveats in the documentation: https://pandas.pydata.org/pandas-docs/stable/user_guide/indexing.html#returning-a-view-versus-a-copy\n",
      "  hit_bet['age'] =hit_bet['endyear'] - hit_bet['startyear']\n"
     ]
    }
   ],
   "source": [
    "glm_bet = data[data.hits_rank < data.glam_rank]\n",
    "hit_bet = data[data.hits_rank > data.glam_rank]\n",
    "glm_bet['age'] =glm_bet['endyear'] - glm_bet['startyear']\n",
    "hit_bet['age'] =hit_bet['endyear'] - hit_bet['startyear']\n",
    "a = len(glm_bet)\n",
    "b = len(hit_bet)\n",
    "\n",
    "\n",
    "glm_bet_early = glm_bet[glm_bet.age <= 5]\n",
    "glm_bet_senior = glm_bet[glm_bet.age > 10]\n",
    "glm_bet_mid = glm_bet[glm_bet.age <= 10]\n",
    "glm_bet_mid = glm_bet_mid[glm_bet_mid.age > 5]\n",
    "\n",
    "ga = len(glm_bet_early)\n",
    "gb = len(glm_bet_mid)\n",
    "gc = len(glm_bet_senior)\n",
    "\n",
    "hit_bet_early = hit_bet[hit_bet.age <= 5]\n",
    "hit_bet_senior = hit_bet[hit_bet.age > 10]\n",
    "hit_bet_mid = hit_bet[hit_bet.age <= 10]\n",
    "hit_bet_mid = hit_bet_mid[hit_bet_mid.age > 5]\n",
    "\n",
    "ha = len(hit_bet_early)\n",
    "hb = len(hit_bet_mid)\n",
    "hc = len(hit_bet_senior)\n",
    "print(ga,\" \",gb, \" \",gc,\" \",ha,\" \",hb,\" \",hc)\n",
    "table = [[ga,gb,gc],[ha,hb,hc]]\n",
    "print(\"printing results \")\n",
    "stat, p, dof, expected = chi2_contingency(table)\n",
    "print(stat,\" \",p,\" \",dof,\" \",expected)"
   ]
  },
  {
   "cell_type": "code",
   "execution_count": null,
   "id": "fdee7f77",
   "metadata": {},
   "outputs": [],
   "source": []
  }
 ],
 "metadata": {
  "kernelspec": {
   "display_name": "Python 3",
   "language": "python",
   "name": "python3"
  },
  "language_info": {
   "codemirror_mode": {
    "name": "ipython",
    "version": 3
   },
   "file_extension": ".py",
   "mimetype": "text/x-python",
   "name": "python",
   "nbconvert_exporter": "python",
   "pygments_lexer": "ipython3",
   "version": "3.8.8"
  }
 },
 "nbformat": 4,
 "nbformat_minor": 5
}
