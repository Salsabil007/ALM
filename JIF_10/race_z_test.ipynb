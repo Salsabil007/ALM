{
 "cells": [
  {
   "cell_type": "code",
   "execution_count": 1,
   "id": "81519178",
   "metadata": {},
   "outputs": [
    {
     "name": "stderr",
     "output_type": "stream",
     "text": [
      "/home/arabi/anaconda3/lib/python3.8/site-packages/scipy/__init__.py:138: UserWarning: A NumPy version >=1.16.5 and <1.23.0 is required for this version of SciPy (detected version 1.23.4)\n",
      "  warnings.warn(f\"A NumPy version >={np_minversion} and <{np_maxversion} is required for this version of \"\n"
     ]
    }
   ],
   "source": [
    "import pandas as pd\n",
    "import numpy as np\n",
    "import matplotlib.pyplot as plt\n",
    "import seaborn as sns\n",
    "import matplotlib.ticker as ticker\n",
    "import math\n",
    "import scipy.stats\n",
    "from scipy import stats\n",
    "from scipy.stats import mannwhitneyu\n",
    "from statsmodels.stats.proportion import proportions_ztest\n",
    "import statsmodels.stats.api as sms"
   ]
  },
  {
   "cell_type": "code",
   "execution_count": 13,
   "id": "71f9f759",
   "metadata": {},
   "outputs": [
    {
     "name": "stdout",
     "output_type": "stream",
     "text": [
      "50422\n",
      "50413\n"
     ]
    }
   ],
   "source": [
    "data = pd.read_csv(\"not_enough_credit_JIF_10.csv\")\n",
    "print(len(data))\n",
    "data = data.dropna(subset=['white','black','his','asi','oth'])\n",
    "print(len(data))\n",
    "data.to_csv(\"not_enough_credit_JIF_10_no_null_race.csv\")"
   ]
  },
  {
   "cell_type": "markdown",
   "id": "9d0a4684",
   "metadata": {},
   "source": [
    "If your alternative hypothesis is p1 > p2, you use the raw value of z\n",
    "\n",
    "If your alternative hypothesis is p1 < p2, you use the raw value of z\n",
    "\n",
    "If your alternative hypothesis is p1 != p2, you use the abs(z)\n",
    "\n",
    "for P1 > p2 or p1 != p2 as alternative, z = (p1 - p2)/se\n",
    "\n",
    "for P1 < p2 as alternative, z = (p2 - p1)/se"
   ]
  },
  {
   "cell_type": "code",
   "execution_count": 14,
   "id": "ff8bd079",
   "metadata": {},
   "outputs": [],
   "source": [
    "glm_bet = data[data.hits < data.glam]\n",
    "hit_bet = data[data.hits > data.glam]\n",
    "ga = glm_bet[glm_bet.asi > 0.50]\n",
    "gb = glm_bet[glm_bet.black > 0.50]\n",
    "gw = glm_bet[glm_bet.white > 0.50]\n",
    "ha = hit_bet[hit_bet.asi > 0.50]\n",
    "hb = hit_bet[hit_bet.black > 0.50]\n",
    "hw = hit_bet[hit_bet.white > 0.50]\n",
    "gh = glm_bet[glm_bet.his > 0.50]\n",
    "hh = hit_bet[hit_bet.his > 0.50]"
   ]
  },
  {
   "cell_type": "code",
   "execution_count": 19,
   "id": "e7e3e30d",
   "metadata": {},
   "outputs": [
    {
     "name": "stdout",
     "output_type": "stream",
     "text": [
      "x1  5581  n1  35392  x2  923  n2  4275  p1  0.15769100361663652  p2  0.21590643274853802\n",
      "z stat of mine  9.710827101599659  p value of my calculation  2.711279721990623e-22\n",
      "statistic  -9.710827101599659  p val  2.711279721990623e-22\n"
     ]
    }
   ],
   "source": [
    "#alternative smaller significant\n",
    "#Calculate the proportion of asian in journal\n",
    "x1 = len(ha)\n",
    "n1 = len(hit_bet)\n",
    "p1 = x1/n1\n",
    "\n",
    "#Calculate the proportion of asian in article\n",
    "x2 = len(ga)\n",
    "n2 = len(glm_bet)\n",
    "p2 = x2/n2\n",
    "\n",
    "print(\"x1 \",x1,\" n1 \", n1,\" x2 \",x2,\" n2 \",n2,\" p1 \",p1, \" p2 \",p2)\n",
    "\n",
    "#print(p1,\" \",p2)\n",
    "\n",
    "#calculate pooled proportion\n",
    "po = (x1+x2)/(n1+n2)\n",
    "\n",
    "#Calculate SE\n",
    "SE = po * (1 - po) * ((1/n1)+(1/n2))\n",
    "se = math.sqrt(SE)\n",
    "\n",
    "z = (p2-p1)/se\n",
    "\n",
    "#p_value = scipy.stats.norm.sf(z)\n",
    "p_value = scipy.stats.norm.sf(abs(z)) * 2\n",
    "print(\"z stat of mine \",z,\" p value of my calculation \",p_value)\n",
    "#print(scipy.stats.norm.cdf(z))\n",
    "#alpha = 0.05\n",
    "\n",
    "successes = np.array([x1, x2])\n",
    "samples = np.array([n1, n2])\n",
    "stat, p_value = proportions_ztest(count=successes, nobs=samples,  alternative='two-sided')\n",
    "print(\"statistic \",stat,\" p val \",p_value)"
   ]
  },
  {
   "cell_type": "code",
   "execution_count": 20,
   "id": "0b701da0",
   "metadata": {},
   "outputs": [
    {
     "name": "stdout",
     "output_type": "stream",
     "text": [
      "x1  349  n1  35392  x2  41  n2  4275  p1  0.009860985533453888  p2  0.0095906432748538\n",
      "z stat of mine  -0.169218472414694  p value of my calculation  0.8656248004324706\n",
      "statistic  0.169218472414694  p val  0.8656248004324706\n"
     ]
    }
   ],
   "source": [
    "#none is significant\n",
    "#Calculate the proportion of black in journal\n",
    "x1 = len(hb)\n",
    "n1 = len(hit_bet)\n",
    "p1 = x1/n1\n",
    "\n",
    "#Calculate the proportion of black in article\n",
    "x2 = len(gb)\n",
    "n2 = len(glm_bet)\n",
    "p2 = x2/n2\n",
    "\n",
    "print(\"x1 \",x1,\" n1 \", n1,\" x2 \",x2,\" n2 \",n2,\" p1 \",p1, \" p2 \",p2)\n",
    "\n",
    "#print(p1,\" \",p2)\n",
    "\n",
    "#calculate pooled proportion\n",
    "po = (x1+x2)/(n1+n2)\n",
    "\n",
    "#Calculate SE\n",
    "SE = po * (1 - po) * ((1/n1)+(1/n2))\n",
    "se = math.sqrt(SE)\n",
    "\n",
    "z = (p2-p1)/se\n",
    "\n",
    "#p_value = scipy.stats.norm.sf(z)\n",
    "p_value = scipy.stats.norm.sf(abs(z)) * 2\n",
    "\n",
    "print(\"z stat of mine \",z,\" p value of my calculation \",p_value)\n",
    "#print(scipy.stats.norm.cdf(z))\n",
    "#alpha = 0.05\n",
    "\n",
    "successes = np.array([x1, x2])\n",
    "samples = np.array([n1, n2])\n",
    "stat, p_value = proportions_ztest(count=successes, nobs=samples,  alternative='two-sided')\n",
    "print(\"statistic \",stat,\" p val \",p_value)"
   ]
  },
  {
   "cell_type": "code",
   "execution_count": 21,
   "id": "3de98305",
   "metadata": {},
   "outputs": [
    {
     "name": "stdout",
     "output_type": "stream",
     "text": [
      "x1  27700  n1  35392  x2  3089  n2  4275  p1  0.7826627486437613  p2  0.7225730994152046\n",
      "z stat of mine  8.903886123796413  p value of my calculation  5.392477356153993e-19\n",
      "statistic  8.903886123796413  p val  5.392477356153993e-19\n"
     ]
    }
   ],
   "source": [
    "#larger significant\n",
    "#Calculate the proportion of black in journal\n",
    "x1 = len(hw)\n",
    "n1 = len(hit_bet)\n",
    "p1 = x1/n1\n",
    "\n",
    "#Calculate the proportion of black in article\n",
    "x2 = len(gw)\n",
    "n2 = len(glm_bet)\n",
    "p2 = x2/n2\n",
    "\n",
    "print(\"x1 \",x1,\" n1 \", n1,\" x2 \",x2,\" n2 \",n2,\" p1 \",p1, \" p2 \",p2)\n",
    "\n",
    "#print(p1,\" \",p2)\n",
    "\n",
    "#calculate pooled proportion\n",
    "po = (x1+x2)/(n1+n2)\n",
    "\n",
    "#Calculate SE\n",
    "SE = po * (1 - po) * ((1/n1)+(1/n2))\n",
    "se = math.sqrt(SE)\n",
    "\n",
    "z = (p1-p2)/se\n",
    "\n",
    "#p_value = scipy.stats.norm.sf(z)\n",
    "p_value = scipy.stats.norm.sf(abs(z)) * 2\n",
    "\n",
    "print(\"z stat of mine \",z,\" p value of my calculation \",p_value)\n",
    "#print(scipy.stats.norm.cdf(z))\n",
    "#alpha = 0.05\n",
    "\n",
    "successes = np.array([x1, x2])\n",
    "samples = np.array([n1, n2])\n",
    "stat, p_value = proportions_ztest(count=successes, nobs=samples,  alternative='two-sided')\n",
    "print(\"statistic \",stat,\" p val \",p_value)"
   ]
  },
  {
   "cell_type": "code",
   "execution_count": 22,
   "id": "c0905422",
   "metadata": {},
   "outputs": [
    {
     "name": "stdout",
     "output_type": "stream",
     "text": [
      "x1  1177  n1  35392  x2  140  n2  4275  p1  0.03325610307414105  p2  0.03274853801169591\n",
      "z stat of mine  0.17496510391017614  p value of my calculation  0.8611070536205708\n",
      "statistic  0.17496510391017614  p val  0.8611070536205708\n"
     ]
    }
   ],
   "source": [
    "#nothing is significant\n",
    "#Calculate the proportion of black in journal\n",
    "x1 = len(hh)\n",
    "n1 = len(hit_bet)\n",
    "p1 = x1/n1\n",
    "\n",
    "#Calculate the proportion of black in article\n",
    "x2 = len(gh)\n",
    "n2 = len(glm_bet)\n",
    "p2 = x2/n2\n",
    "\n",
    "print(\"x1 \",x1,\" n1 \", n1,\" x2 \",x2,\" n2 \",n2,\" p1 \",p1, \" p2 \",p2)\n",
    "\n",
    "#print(p1,\" \",p2)\n",
    "\n",
    "#calculate pooled proportion\n",
    "po = (x1+x2)/(n1+n2)\n",
    "\n",
    "#Calculate SE\n",
    "SE = po * (1 - po) * ((1/n1)+(1/n2))\n",
    "se = math.sqrt(SE)\n",
    "\n",
    "z = (p1-p2)/se\n",
    "\n",
    "#p_value = scipy.stats.norm.sf(z)\n",
    "p_value = scipy.stats.norm.sf(abs(z)) * 2\n",
    "\n",
    "print(\"z stat of mine \",z,\" p value of my calculation \",p_value)\n",
    "#print(scipy.stats.norm.cdf(z))\n",
    "#alpha = 0.05\n",
    "\n",
    "successes = np.array([x1, x2])\n",
    "samples = np.array([n1, n2])\n",
    "stat, p_value = proportions_ztest(count=successes, nobs=samples,  alternative='two-sided')\n",
    "print(\"statistic \",stat,\" p val \",p_value)"
   ]
  },
  {
   "cell_type": "markdown",
   "id": "45e2d59a",
   "metadata": {},
   "source": [
    "### Binomial Test"
   ]
  },
  {
   "cell_type": "code",
   "execution_count": 9,
   "id": "8a4942c9",
   "metadata": {},
   "outputs": [
    {
     "name": "stdout",
     "output_type": "stream",
     "text": [
      "1.5277191467873244e-204\n"
     ]
    }
   ],
   "source": [
    "#greater significant\n",
    "total = len(hh) + len(gh)\n",
    "print(scipy.stats.binom_test(x = [len(hh)],n = total, p = 0.5, alternative = 'two-sided'))"
   ]
  },
  {
   "cell_type": "code",
   "execution_count": 10,
   "id": "cc1e4e98",
   "metadata": {},
   "outputs": [
    {
     "name": "stdout",
     "output_type": "stream",
     "text": [
      "5e-324\n"
     ]
    }
   ],
   "source": [
    "#greater significant\n",
    "total = len(ha) + len(ga)\n",
    "print(scipy.stats.binom_test(x = [len(ha)],n = total, p = 0.5, alternative = 'two-sided'))"
   ]
  },
  {
   "cell_type": "code",
   "execution_count": 11,
   "id": "3f9d3074",
   "metadata": {},
   "outputs": [
    {
     "name": "stdout",
     "output_type": "stream",
     "text": [
      "5.199530361051514e-62\n"
     ]
    }
   ],
   "source": [
    "#greater significant\n",
    "total = len(hb) + len(gb)\n",
    "print(scipy.stats.binom_test(x = [len(hb)],n = total, p = 0.5, alternative = 'two-sided'))"
   ]
  },
  {
   "cell_type": "code",
   "execution_count": 12,
   "id": "eb2d317a",
   "metadata": {},
   "outputs": [
    {
     "name": "stdout",
     "output_type": "stream",
     "text": [
      "5e-324\n"
     ]
    }
   ],
   "source": [
    "#greater significant\n",
    "total = len(hw) + len(gw)\n",
    "print(scipy.stats.binom_test(x = [len(hw)],n = total, p = 0.5, alternative = 'two-sided'))"
   ]
  },
  {
   "cell_type": "code",
   "execution_count": null,
   "id": "6840795b",
   "metadata": {},
   "outputs": [],
   "source": []
  }
 ],
 "metadata": {
  "kernelspec": {
   "display_name": "Python 3",
   "language": "python",
   "name": "python3"
  },
  "language_info": {
   "codemirror_mode": {
    "name": "ipython",
    "version": 3
   },
   "file_extension": ".py",
   "mimetype": "text/x-python",
   "name": "python",
   "nbconvert_exporter": "python",
   "pygments_lexer": "ipython3",
   "version": "3.8.8"
  }
 },
 "nbformat": 4,
 "nbformat_minor": 5
}
