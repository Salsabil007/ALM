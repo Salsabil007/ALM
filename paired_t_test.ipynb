{
 "cells": [
  {
   "cell_type": "code",
   "execution_count": 10,
   "id": "d911a159",
   "metadata": {},
   "outputs": [],
   "source": [
    "import pandas as pd\n",
    "import numpy as np\n",
    "import matplotlib.pyplot as plt\n",
    "import seaborn as sns\n",
    "import matplotlib.ticker as ticker\n",
    "import math\n",
    "#import scipy.stats\n",
    "from scipy import stats\n",
    "from scipy.stats import mannwhitneyu\n",
    "from statsmodels.stats.proportion import proportions_ztest\n",
    "import statsmodels.stats.api as sms"
   ]
  },
  {
   "cell_type": "code",
   "execution_count": 13,
   "id": "edb72954",
   "metadata": {},
   "outputs": [
    {
     "name": "stdout",
     "output_type": "stream",
     "text": [
      "50422\n",
      "50422\n",
      "printing for mid career\n",
      "Ttest_relResult(statistic=50.2784877699197, pvalue=0.0)\n",
      "xd  0.12745600549702518\n",
      "sd  0.1844115059099582\n",
      "50.27848776991956\n",
      "df  5291\n",
      "0.07856751849874763\n",
      "0.20602352399577353\n"
     ]
    },
    {
     "data": {
      "image/png": "[encoded data removed]",
      "text/plain": [
       "<Figure size 432x288 with 1 Axes>"
      ]
     },
     "metadata": {
      "needs_background": "light"
     },
     "output_type": "display_data"
    }
   ],
   "source": [
    "data = pd.read_csv(\"not_enough_credit_JIF_10.csv\")\n",
    "print(len(data))\n",
    "#data = data[data.hits != data.glam]\n",
    "print(len(data))\n",
    "data['age'] =data['endyear'] - data['startyear']\n",
    "\n",
    "early = data[data.age <= 5]\n",
    "senior = data[data.age > 10]\n",
    "mid = data[data.age <= 10]\n",
    "mid = mid[mid.age > 5]\n",
    "\n",
    "mid.to_csv(\"for_R_paired.csv\", index = False)\n",
    "\n",
    "data['dif'] = data['hits'] - data['glam']\n",
    "data['dif'].hist()\n",
    "\n",
    "#w, pvalue = stats.shapiro(data['dif'])\n",
    "#print(w,\" pvalue \", pvalue)\n",
    "\n",
    "print(\"printing for mid career\")\n",
    "print(stats.ttest_rel(mid['hits'], mid['glam'], alternative='greater')) #two-sided #greater\n",
    "\n",
    "\n",
    "com = mid.copy()\n",
    "com['dif'] = com['hits'] - com['glam']\n",
    "mn = com['dif'].mean() ##xd\n",
    "print(\"xd \",mn)\n",
    "com['dif'] = com['dif'] - mn\n",
    "com['dif'] = com['dif'] * com['dif']\n",
    "a = com['dif'].sum()\n",
    "a = a/(len(com)-1)\n",
    "a = math.sqrt(a) ##sd\n",
    "print(\"sd \",a)\n",
    "t = mn/(a/math.sqrt(len(com)))\n",
    "print(t)\n",
    "print(\"df \",len(com)-1)\n",
    "data['glam'].isnull().values.any()\n",
    "print(com['glam'].mean())\n",
    "print(com['hits'].mean())"
   ]
  },
  {
   "cell_type": "code",
   "execution_count": 17,
   "id": "6ae11eed",
   "metadata": {},
   "outputs": [
    {
     "name": "stdout",
     "output_type": "stream",
     "text": [
      "50422\n",
      "50422\n",
      "printing for early\n",
      "Ttest_relResult(statistic=19.957337763161764, pvalue=1.0102029382611374e-82)\n",
      "xd  0.1059410368864068\n",
      "sd  0.26721751258007326\n",
      "19.957337763161757\n",
      "df  2533\n",
      "0.07805463168492227\n",
      "0.1839956685713287\n"
     ]
    },
    {
     "data": {
      "image/png": "[encoded data removed]",
      "text/plain": [
       "<Figure size 432x288 with 1 Axes>"
      ]
     },
     "metadata": {
      "needs_background": "light"
     },
     "output_type": "display_data"
    }
   ],
   "source": [
    "data = pd.read_csv(\"not_enough_credit_JIF_10.csv\")\n",
    "print(len(data))\n",
    "#data = data[data.hits != data.glam]\n",
    "print(len(data))\n",
    "data['age'] =data['endyear'] - data['startyear']\n",
    "\n",
    "early = data[data.age <= 5]\n",
    "senior = data[data.age > 10]\n",
    "mid = data[data.age <= 10]\n",
    "mid = mid[mid.age > 5]\n",
    "\n",
    "\n",
    "\n",
    "data['dif'] = data['hits'] - data['glam']\n",
    "data['dif'].hist()\n",
    "\n",
    "#w, pvalue = stats.shapiro(data['dif'])\n",
    "#print(w,\" pvalue \", pvalue)\n",
    "\n",
    "print(\"printing for early\")\n",
    "print(stats.ttest_rel(early['hits'], early['glam'], alternative='greater'))\n",
    "\n",
    "\n",
    "com = early.copy()\n",
    "com['dif'] = com['hits'] - com['glam']\n",
    "mn = com['dif'].mean() ##xd\n",
    "print(\"xd \",mn)\n",
    "com['dif'] = com['dif'] - mn\n",
    "com['dif'] = com['dif'] * com['dif']\n",
    "a = com['dif'].sum()\n",
    "a = a/(len(com)-1)\n",
    "a = math.sqrt(a) ##sd\n",
    "print(\"sd \",a)\n",
    "t = mn/(a/math.sqrt(len(com)))\n",
    "print(t)\n",
    "print(\"df \",len(com)-1)\n",
    "data['glam'].isnull().values.any()\n",
    "print(com['glam'].mean())\n",
    "print(com['hits'].mean())"
   ]
  },
  {
   "cell_type": "code",
   "execution_count": 18,
   "id": "ec1c94b3",
   "metadata": {},
   "outputs": [
    {
     "name": "stdout",
     "output_type": "stream",
     "text": [
      "50422\n",
      "50422\n",
      "printing for senior\n",
      "Ttest_relResult(statistic=168.7619016127021, pvalue=0.0)\n",
      "xd  0.11496790573806347\n",
      "sd  0.1406004203559116\n",
      "t value  168.76190161269682\n",
      "df  42595\n",
      "0.08460935740251627\n",
      "0.1995772631405799\n"
     ]
    },
    {
     "data": {
      "image/png": "[encoded data removed]",
      "text/plain": [
       "<Figure size 432x288 with 1 Axes>"
      ]
     },
     "metadata": {
      "needs_background": "light"
     },
     "output_type": "display_data"
    }
   ],
   "source": [
    "data = pd.read_csv(\"not_enough_credit_JIF_10.csv\")\n",
    "print(len(data))\n",
    "#data = data[data.hits != data.glam]\n",
    "print(len(data))\n",
    "data['age'] =data['endyear'] - data['startyear']\n",
    "\n",
    "early = data[data.age <= 5]\n",
    "senior = data[data.age > 10]\n",
    "mid = data[data.age <= 10]\n",
    "mid = mid[mid.age > 5]\n",
    "\n",
    "\n",
    "\n",
    "data['dif'] = data['hits'] - data['glam']\n",
    "data['dif'].hist()\n",
    "\n",
    "#w, pvalue = stats.shapiro(data['dif'])\n",
    "#print(w,\" pvalue \", pvalue)\n",
    "\n",
    "print(\"printing for senior\")\n",
    "print(stats.ttest_rel(senior['hits'], senior['glam'], alternative='greater'))\n",
    "\n",
    "\n",
    "com = senior.copy()\n",
    "com['dif'] = com['hits'] - com['glam']\n",
    "mn = com['dif'].mean() ##xd\n",
    "print(\"xd \",mn)\n",
    "com['dif'] = com['dif'] - mn\n",
    "com['dif'] = com['dif'] * com['dif']\n",
    "a = com['dif'].sum()\n",
    "a = a/(len(com)-1)\n",
    "a = math.sqrt(a) ##sd\n",
    "print(\"sd \",a)\n",
    "t = mn/(a/math.sqrt(len(com)))\n",
    "print(\"t value \",t)\n",
    "print(\"df \",len(com)-1)\n",
    "data['glam'].isnull().values.any()\n",
    "print(com['glam'].mean())\n",
    "print(com['hits'].mean())"
   ]
  },
  {
   "cell_type": "code",
   "execution_count": null,
   "id": "23de559e",
   "metadata": {},
   "outputs": [],
   "source": []
  }
 ],
 "metadata": {
  "kernelspec": {
   "display_name": "Python 3",
   "language": "python",
   "name": "python3"
  },
  "language_info": {
   "codemirror_mode": {
    "name": "ipython",
    "version": 3
   },
   "file_extension": ".py",
   "mimetype": "text/x-python",
   "name": "python",
   "nbconvert_exporter": "python",
   "pygments_lexer": "ipython3",
   "version": "3.8.8"
  }
 },
 "nbformat": 4,
 "nbformat_minor": 5
}
