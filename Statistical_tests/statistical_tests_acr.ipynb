{
 "cells": [
  {
   "cell_type": "code",
   "execution_count": 1,
   "id": "ae440c3d",
   "metadata": {},
   "outputs": [
    {
     "name": "stderr",
     "output_type": "stream",
     "text": [
      "/home/arabi/anaconda3/lib/python3.8/site-packages/scipy/__init__.py:138: UserWarning: A NumPy version >=1.16.5 and <1.23.0 is required for this version of SciPy (detected version 1.23.4)\n",
      "  warnings.warn(f\"A NumPy version >={np_minversion} and <{np_maxversion} is required for this version of \"\n"
     ]
    }
   ],
   "source": [
    "import pandas as pd\n",
    "import numpy as np\n",
    "import matplotlib.pyplot as plt\n",
    "import seaborn as sns\n",
    "import matplotlib.ticker as ticker\n",
    "import math\n",
    "import scipy.stats\n",
    "from scipy import stats\n",
    "from scipy.stats import mannwhitneyu\n",
    "from statsmodels.stats.proportion import proportions_ztest\n",
    "import statsmodels.stats.api as sms"
   ]
  },
  {
   "cell_type": "code",
   "execution_count": 2,
   "id": "fc1c2d53",
   "metadata": {},
   "outputs": [],
   "source": [
    "data = pd.read_csv(\"not_enough_credit_merged_acr_15.csv\")"
   ]
  },
  {
   "cell_type": "code",
   "execution_count": 3,
   "id": "47694581",
   "metadata": {},
   "outputs": [
    {
     "name": "stdout",
     "output_type": "stream",
     "text": [
      "length for R  401   1107   362   1107\n",
      "condition  401.0   706.0000000000001   362.0   744.9999999999999\n",
      "1.7440440107315964\n",
      "0.04057570792739581\n",
      "statistic  1.7440440107315964  p val  0.04057570792739581\n"
     ]
    }
   ],
   "source": [
    "##hypothesis testing. We will use z test for two independent sample proportion. we only do Z for proportion, not t.\n",
    "'''\n",
    "H0: proportion of female author in hit_better is same as proprotion of female author in glam_better.\n",
    "H1: proportion of female author in hit_better is higher than the proprotion of female author in glam_better.\n",
    "as the sample size is large, we can do z test. \n",
    "p1_: proportion of female in hit_better = (x1/n1)\n",
    "p2_: proportion of female in glam_better = (x2/n2)\n",
    "pooled proportion, p0 = (x1+x2)/(n1+n2)\n",
    "z = (p1_-p2_)/sqrt(p0 * (1-p0) * ((1/n1)+(1/n2)))\n",
    "Condition for the test:\n",
    " (1)The sample is randomly selected\n",
    " (2)There is only two options:\n",
    "        Being in the category\n",
    "        Not being in the category\n",
    " (3)The sample needs at least:\n",
    "        5 members in the category n1*p1_ >= 5 and n1*(1-p1_) >= 5 and n2*p2_ >= 5 and n2*(1-p2) >= 5\n",
    "        5 members not in the category\n",
    "https://sixsigmastudyguide.com/two-sample-test-of-proportions/'''\n",
    "\n",
    "\n",
    "glm_bet = data[data.hits_acr < data.glam]\n",
    "hit_bet = data[data.hits_acr > data.glam]\n",
    "\n",
    "glm_bet = glm_bet.dropna(subset=['female','male'])\n",
    "gender = [\"Female\" if glm_bet['female'][ind] > glm_bet['male'][ind] else \"Male\" for ind in glm_bet.index]\n",
    "glm_bet['gender'] = gender\n",
    "\n",
    "hit_bet = hit_bet.dropna(subset=['female','male'])\n",
    "gender = [\"Female\" if hit_bet['female'][ind] > hit_bet['male'][ind] else \"Male\" for ind in hit_bet.index]\n",
    "hit_bet['gender'] = gender\n",
    "\n",
    "hit_bet = hit_bet.sample(n=len(glm_bet), replace = False,random_state=1)\n",
    "x1 = len(hit_bet[hit_bet.gender == \"Female\"])\n",
    "n1 = len(hit_bet)\n",
    "x2 = len(glm_bet[glm_bet.gender == \"Female\"])\n",
    "n2 = len(glm_bet)\n",
    "print(\"length for R \",x1,\" \",n1,\" \",x2,\" \",n2)\n",
    "p1_ = x1/n1\n",
    "p2_ = x2/n2\n",
    "print(\"condition \",n1*p1_,\" \",n1*(1-p1_),\" \",n2*p2_,\" \",n2*(1-p2_))\n",
    "p0 = (x1+x2)/(n1+n2)\n",
    "se = p0 * (1 - p0)*((1/n1)+(1/n2))\n",
    "se = math.sqrt(se)\n",
    "z = (p1_ - p2_)/se\n",
    "print(z)\n",
    "p_value = scipy.stats.norm.sf(z)\n",
    "print(p_value)\n",
    "#print(scipy.stats.norm.cdf(z))\n",
    "\n",
    "\n",
    "successes = np.array([x1, x2])\n",
    "samples = np.array([n1, n2])\n",
    "stat, p_value = proportions_ztest(count=successes, nobs=samples,  alternative='larger')\n",
    "print(\"statistic \",stat,\" p val \",p_value)"
   ]
  },
  {
   "cell_type": "code",
   "execution_count": 4,
   "id": "133cb0dc",
   "metadata": {},
   "outputs": [
    {
     "name": "stdout",
     "output_type": "stream",
     "text": [
      "length for R  5000   12169   3733   12169\n",
      "condition  5000.0   7169.0   3733.0   8436.0\n",
      "16.931890129480948\n",
      "1.3091770204716156e-64\n",
      "statistic  16.931890129480948  p val  1.3091770204716156e-64\n"
     ]
    }
   ],
   "source": [
    "glm_bet = data[data.hits_rank < data.glam_rank]\n",
    "hit_bet = data[data.hits_rank > data.glam_rank]\n",
    "\n",
    "glm_bet = glm_bet.dropna(subset=['female','male'])\n",
    "gender = [\"Female\" if glm_bet['female'][ind] > glm_bet['male'][ind] else \"Male\" for ind in glm_bet.index]\n",
    "glm_bet['gender'] = gender\n",
    "\n",
    "hit_bet = hit_bet.dropna(subset=['female','male'])\n",
    "gender = [\"Female\" if hit_bet['female'][ind] > hit_bet['male'][ind] else \"Male\" for ind in hit_bet.index]\n",
    "hit_bet['gender'] = gender\n",
    "\n",
    "hit_bet = hit_bet.sample(n=len(glm_bet), replace = False)\n",
    "x1 = len(hit_bet[hit_bet.gender == \"Female\"])\n",
    "n1 = len(hit_bet)\n",
    "x2 = len(glm_bet[glm_bet.gender == \"Female\"])\n",
    "n2 = len(glm_bet)\n",
    "\n",
    "print(\"length for R \",x1,\" \",n1,\" \",x2,\" \",n2)\n",
    "p1_ = x1/n1\n",
    "p2_ = x2/n2\n",
    "print(\"condition \",n1*p1_,\" \",n1*(1-p1_),\" \",n2*p2_,\" \",n2*(1-p2_))\n",
    "p0 = (x1+x2)/(n1+n2)\n",
    "se = p0 * (1 - p0)*((1/n1)+(1/n2))\n",
    "se = math.sqrt(se)\n",
    "z = (p1_ - p2_)/se\n",
    "print(z)\n",
    "p_value = scipy.stats.norm.sf(z)\n",
    "print(p_value)\n",
    "\n",
    "\n",
    "successes = np.array([x1, x2])\n",
    "samples = np.array([n1, n2])\n",
    "stat, p_value = proportions_ztest(count=successes, nobs=samples,  alternative='larger')\n",
    "print(\"statistic \",stat,\" p val \",p_value)"
   ]
  },
  {
   "cell_type": "code",
   "execution_count": 3,
   "id": "fe94d796",
   "metadata": {},
   "outputs": [
    {
     "name": "stdout",
     "output_type": "stream",
     "text": [
      "2298\n",
      "32871\n"
     ]
    }
   ],
   "source": [
    "glm_bet = data[data.hits < data.glam]\n",
    "hit_bet = data[data.hits > data.glam]\n",
    "print(len(glm_bet))\n",
    "print(len(hit_bet))"
   ]
  },
  {
   "cell_type": "code",
   "execution_count": 4,
   "id": "ed04a717",
   "metadata": {},
   "outputs": [
    {
     "name": "stdout",
     "output_type": "stream",
     "text": [
      "14038\n",
      "23731\n"
     ]
    }
   ],
   "source": [
    "glm_bet = data[data.hits_rank < data.glam_rank]\n",
    "hit_bet = data[data.hits_rank > data.glam_rank]\n",
    "print(len(glm_bet))\n",
    "print(len(hit_bet))"
   ]
  },
  {
   "cell_type": "code",
   "execution_count": null,
   "id": "165d21d3",
   "metadata": {},
   "outputs": [],
   "source": []
  }
 ],
 "metadata": {
  "kernelspec": {
   "display_name": "Python 3",
   "language": "python",
   "name": "python3"
  },
  "language_info": {
   "codemirror_mode": {
    "name": "ipython",
    "version": 3
   },
   "file_extension": ".py",
   "mimetype": "text/x-python",
   "name": "python",
   "nbconvert_exporter": "python",
   "pygments_lexer": "ipython3",
   "version": "3.8.8"
  }
 },
 "nbformat": 4,
 "nbformat_minor": 5
}
