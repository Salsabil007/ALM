{
 "cells": [
  {
   "cell_type": "code",
   "execution_count": 2,
   "id": "41392dae",
   "metadata": {},
   "outputs": [
    {
     "name": "stderr",
     "output_type": "stream",
     "text": [
      "/home/arabi/anaconda3/lib/python3.8/site-packages/scipy/__init__.py:138: UserWarning: A NumPy version >=1.16.5 and <1.23.0 is required for this version of SciPy (detected version 1.23.4)\n",
      "  warnings.warn(f\"A NumPy version >={np_minversion} and <{np_maxversion} is required for this version of \"\n"
     ]
    }
   ],
   "source": [
    "import pandas as pd\n",
    "import numpy as np\n",
    "from scipy.stats import chi2_contingency"
   ]
  },
  {
   "cell_type": "code",
   "execution_count": 3,
   "id": "3b4f03a8",
   "metadata": {},
   "outputs": [],
   "source": [
    "data = pd.read_csv(\"not_enough_credit_JIF_15.csv\")"
   ]
  },
  {
   "cell_type": "code",
   "execution_count": 3,
   "id": "afcccc74",
   "metadata": {},
   "outputs": [
    {
     "name": "stdout",
     "output_type": "stream",
     "text": [
      "495   16   1687   65   5244   319   25713   1051\n",
      "statistics  50.026233795761  p val  7.887060421743808e-11  dof  3  expected  [[3.75465655e+02 2.19168835e+01 1.79260480e+03 7.30126626e+01]\n",
      " [5.36353435e+03 3.13083117e+02 2.56073952e+04 1.04298734e+03]]\n"
     ]
    }
   ],
   "source": [
    "glm_bet = data[data.hits < data.glam]\n",
    "hit_bet = data[data.hits > data.glam]\n",
    "ga = glm_bet[glm_bet.asi > 0.50]\n",
    "gb = glm_bet[glm_bet.black > 0.50]\n",
    "gw = glm_bet[glm_bet.white > 0.50]\n",
    "ha = hit_bet[hit_bet.asi > 0.50]\n",
    "hb = hit_bet[hit_bet.black > 0.50]\n",
    "hw = hit_bet[hit_bet.white > 0.50]\n",
    "gh = glm_bet[glm_bet.his > 0.50]\n",
    "hh = hit_bet[hit_bet.his > 0.50]\n",
    "print(len(ga),\" \",len(gb),' ',len(gw),\" \",len(gh),\" \",len(ha),\" \",len(hb),\" \",len(hw),\" \",len(hh))\n",
    "table = [[len(ga),len(gb),len(gw),len(gh)],[len(ha),len(hb),len(hw),len(hh)]]\n",
    "stat, p, dof, expected = chi2_contingency(table)\n",
    "print(\"statistics \",stat,\" p val \",p,\" dof \",dof,\" expected \",expected)"
   ]
  },
  {
   "cell_type": "code",
   "execution_count": 4,
   "id": "14a76311",
   "metadata": {},
   "outputs": [
    {
     "name": "stdout",
     "output_type": "stream",
     "text": [
      "592   1351   10909   18017\n",
      "40.574849102725224   1.8922670956226282e-10   1   [[  723.91211248  1219.08788752]\n",
      " [10777.08788752 18148.91211248]]\n"
     ]
    }
   ],
   "source": [
    "glm_bet = data[data.hits < data.glam]\n",
    "hit_bet = data[data.hits > data.glam]\n",
    "\n",
    "glm_bet = glm_bet.dropna(subset=['female','male'])\n",
    "gender = [\"Female\" if glm_bet['female'][ind] > glm_bet['male'][ind] else \"Male\" for ind in glm_bet.index]\n",
    "glm_bet['gender'] = gender\n",
    "gm = glm_bet[glm_bet.gender == \"Male\"]\n",
    "gf = glm_bet[glm_bet.gender == \"Female\"]\n",
    "\n",
    "\n",
    "hit_bet = hit_bet.dropna(subset=['female','male'])\n",
    "gender = [\"Female\" if hit_bet['female'][ind] > hit_bet['male'][ind] else \"Male\" for ind in hit_bet.index]\n",
    "hit_bet['gender'] = gender\n",
    "hm = hit_bet[hit_bet.gender == \"Male\"]\n",
    "hf = hit_bet[hit_bet.gender == \"Female\"]\n",
    "\n",
    "print(len(gf),\" \",len(gm),\" \",len(hf),\" \",len(hm))\n",
    "table = [[len(gf),len(gm)],[len(hf),len(hm)]]\n",
    "stat, p, dof, expected = chi2_contingency(table)\n",
    "print(stat,\" \",p,\" \",dof,\" \",expected)"
   ]
  },
  {
   "cell_type": "code",
   "execution_count": 5,
   "id": "7fc34d59",
   "metadata": {},
   "outputs": [
    {
     "name": "stdout",
     "output_type": "stream",
     "text": [
      "71   201   2026   717   2813   29341\n",
      "printing results \n",
      "8.289669684064467   0.015846052837099087   2   [[   51.48920925   196.93969121  2049.57109955]\n",
      " [  736.51079075  2817.06030879 29317.42890045]]\n"
     ]
    },
    {
     "name": "stderr",
     "output_type": "stream",
     "text": [
      "<ipython-input-5-62035ebf4107>:3: SettingWithCopyWarning: \n",
      "A value is trying to be set on a copy of a slice from a DataFrame.\n",
      "Try using .loc[row_indexer,col_indexer] = value instead\n",
      "\n",
      "See the caveats in the documentation: https://pandas.pydata.org/pandas-docs/stable/user_guide/indexing.html#returning-a-view-versus-a-copy\n",
      "  glm_bet['age'] =glm_bet['endyear'] - glm_bet['startyear']\n",
      "<ipython-input-5-62035ebf4107>:4: SettingWithCopyWarning: \n",
      "A value is trying to be set on a copy of a slice from a DataFrame.\n",
      "Try using .loc[row_indexer,col_indexer] = value instead\n",
      "\n",
      "See the caveats in the documentation: https://pandas.pydata.org/pandas-docs/stable/user_guide/indexing.html#returning-a-view-versus-a-copy\n",
      "  hit_bet['age'] =hit_bet['endyear'] - hit_bet['startyear']\n"
     ]
    }
   ],
   "source": [
    "glm_bet = data[data.hits < data.glam]\n",
    "hit_bet = data[data.hits > data.glam]\n",
    "glm_bet['age'] =glm_bet['endyear'] - glm_bet['startyear']\n",
    "hit_bet['age'] =hit_bet['endyear'] - hit_bet['startyear']\n",
    "a = len(glm_bet)\n",
    "b = len(hit_bet)\n",
    "\n",
    "\n",
    "glm_bet_early = glm_bet[glm_bet.age <= 5]\n",
    "glm_bet_senior = glm_bet[glm_bet.age > 10]\n",
    "glm_bet_mid = glm_bet[glm_bet.age <= 10]\n",
    "glm_bet_mid = glm_bet_mid[glm_bet_mid.age > 5]\n",
    "\n",
    "ga = len(glm_bet_early)\n",
    "gb = len(glm_bet_mid)\n",
    "gc = len(glm_bet_senior)\n",
    "\n",
    "hit_bet_early = hit_bet[hit_bet.age <= 5]\n",
    "hit_bet_senior = hit_bet[hit_bet.age > 10]\n",
    "hit_bet_mid = hit_bet[hit_bet.age <= 10]\n",
    "hit_bet_mid = hit_bet_mid[hit_bet_mid.age > 5]\n",
    "\n",
    "ha = len(hit_bet_early)\n",
    "hb = len(hit_bet_mid)\n",
    "hc = len(hit_bet_senior)\n",
    "print(ga,\" \",gb, \" \",gc,\" \",ha,\" \",hb,\" \",hc)\n",
    "table = [[ga,gb,gc],[ha,hb,hc]]\n",
    "print(\"printing results \")\n",
    "stat, p, dof, expected = chi2_contingency(table)\n",
    "print(stat,\" \",p,\" \",dof,\" \",expected)"
   ]
  },
  {
   "cell_type": "code",
   "execution_count": 6,
   "id": "b07c1da1",
   "metadata": {},
   "outputs": [
    {
     "name": "stdout",
     "output_type": "stream",
     "text": [
      "229   866   12943   674   2456   20601\n",
      "printing results \n",
      "258.00479839445   9.439953963858429e-57   2   [[  335.62747227  1234.72255024 12467.64997749]\n",
      " [  567.37252773  2087.27744976 21076.35002251]]\n"
     ]
    },
    {
     "name": "stderr",
     "output_type": "stream",
     "text": [
      "<ipython-input-6-91ca26d5f151>:3: SettingWithCopyWarning: \n",
      "A value is trying to be set on a copy of a slice from a DataFrame.\n",
      "Try using .loc[row_indexer,col_indexer] = value instead\n",
      "\n",
      "See the caveats in the documentation: https://pandas.pydata.org/pandas-docs/stable/user_guide/indexing.html#returning-a-view-versus-a-copy\n",
      "  glm_bet['age'] =glm_bet['endyear'] - glm_bet['startyear']\n",
      "<ipython-input-6-91ca26d5f151>:4: SettingWithCopyWarning: \n",
      "A value is trying to be set on a copy of a slice from a DataFrame.\n",
      "Try using .loc[row_indexer,col_indexer] = value instead\n",
      "\n",
      "See the caveats in the documentation: https://pandas.pydata.org/pandas-docs/stable/user_guide/indexing.html#returning-a-view-versus-a-copy\n",
      "  hit_bet['age'] =hit_bet['endyear'] - hit_bet['startyear']\n"
     ]
    }
   ],
   "source": [
    "glm_bet = data[data.hits_rank < data.glam_rank]\n",
    "hit_bet = data[data.hits_rank > data.glam_rank]\n",
    "glm_bet['age'] =glm_bet['endyear'] - glm_bet['startyear']\n",
    "hit_bet['age'] =hit_bet['endyear'] - hit_bet['startyear']\n",
    "a = len(glm_bet)\n",
    "b = len(hit_bet)\n",
    "\n",
    "\n",
    "glm_bet_early = glm_bet[glm_bet.age <= 5]\n",
    "glm_bet_senior = glm_bet[glm_bet.age > 10]\n",
    "glm_bet_mid = glm_bet[glm_bet.age <= 10]\n",
    "glm_bet_mid = glm_bet_mid[glm_bet_mid.age > 5]\n",
    "\n",
    "ga = len(glm_bet_early)\n",
    "gb = len(glm_bet_mid)\n",
    "gc = len(glm_bet_senior)\n",
    "\n",
    "hit_bet_early = hit_bet[hit_bet.age <= 5]\n",
    "hit_bet_senior = hit_bet[hit_bet.age > 10]\n",
    "hit_bet_mid = hit_bet[hit_bet.age <= 10]\n",
    "hit_bet_mid = hit_bet_mid[hit_bet_mid.age > 5]\n",
    "\n",
    "ha = len(hit_bet_early)\n",
    "hb = len(hit_bet_mid)\n",
    "hc = len(hit_bet_senior)\n",
    "print(ga,\" \",gb, \" \",gc,\" \",ha,\" \",hb,\" \",hc)\n",
    "table = [[ga,gb,gc],[ha,hb,hc]]\n",
    "print(\"printing results \")\n",
    "stat, p, dof, expected = chi2_contingency(table)\n",
    "print(stat,\" \",p,\" \",dof,\" \",expected)"
   ]
  },
  {
   "cell_type": "code",
   "execution_count": null,
   "id": "df2b7e85",
   "metadata": {},
   "outputs": [],
   "source": []
  }
 ],
 "metadata": {
  "kernelspec": {
   "display_name": "Python 3",
   "language": "python",
   "name": "python3"
  },
  "language_info": {
   "codemirror_mode": {
    "name": "ipython",
    "version": 3
   },
   "file_extension": ".py",
   "mimetype": "text/x-python",
   "name": "python",
   "nbconvert_exporter": "python",
   "pygments_lexer": "ipython3",
   "version": "3.8.8"
  }
 },
 "nbformat": 4,
 "nbformat_minor": 5
}
