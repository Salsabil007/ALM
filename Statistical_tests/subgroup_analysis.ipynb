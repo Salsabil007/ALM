{
 "cells": [
  {
   "cell_type": "code",
   "execution_count": 1,
   "id": "41392dae",
   "metadata": {},
   "outputs": [
    {
     "name": "stderr",
     "output_type": "stream",
     "text": [
      "/home/arabi/anaconda3/lib/python3.8/site-packages/scipy/__init__.py:138: UserWarning: A NumPy version >=1.16.5 and <1.23.0 is required for this version of SciPy (detected version 1.23.4)\n",
      "  warnings.warn(f\"A NumPy version >={np_minversion} and <{np_maxversion} is required for this version of \"\n"
     ]
    }
   ],
   "source": [
    "import pandas as pd\n",
    "import numpy as np\n",
    "from scipy.stats import chi2_contingency"
   ]
  },
  {
   "cell_type": "code",
   "execution_count": 2,
   "id": "3b4f03a8",
   "metadata": {},
   "outputs": [
    {
     "name": "stdout",
     "output_type": "stream",
     "text": [
      "50422\n",
      "50413\n"
     ]
    }
   ],
   "source": [
    "data = pd.read_csv(\"not_enough_credit_JIF_15.csv\")\n",
    "print(len(data))\n",
    "data = data.dropna(subset=['white','black','his','asi','oth'])\n",
    "print(len(data))\n"
   ]
  },
  {
   "cell_type": "markdown",
   "id": "0783e2ff",
   "metadata": {},
   "source": [
    "### Glam top 10k: First two - prop of male-female in citation elite and journal elite"
   ]
  },
  {
   "cell_type": "code",
   "execution_count": 16,
   "id": "c3ee6396",
   "metadata": {},
   "outputs": [
    {
     "name": "stdout",
     "output_type": "stream",
     "text": [
      "                                                     url  startyear  endyear  \\\n",
      "35559  https://www.ncbi.nlm.nih.gov/myncbi/nul.oh.1/b...       2015     2021   \n",
      "2282   https://www.ncbi.nlm.nih.gov/myncbi/andre.cati...       1998     2020   \n",
      "23562  https://www.ncbi.nlm.nih.gov/myncbi/joseph.par...       2000     2014   \n",
      "4319   https://www.ncbi.nlm.nih.gov/myncbi/babak.esma...       1991     2018   \n",
      "17884  https://www.ncbi.nlm.nih.gov/myncbi/hugh.olsen...       1992     2015   \n",
      "\n",
      "       decade      hits  glam  hits_rank  glam_rank  rcr_median      appl  \\\n",
      "35559    2010  0.000000   1.0   0.000000   0.999108        0.64  10068440   \n",
      "2282     1990  0.666667   1.0   0.992602   0.999108        3.84   7989656   \n",
      "23562    2000  0.000000   1.0   0.000000   0.999108        1.13   9681800   \n",
      "4319     1990  1.000000   1.0   0.997937   0.999108       26.56   7672118   \n",
      "17884    1990  1.000000   1.0   0.997937   0.999108       12.56   9376009   \n",
      "\n",
      "       ...    male  female     white     black       his       asi       oth  \\\n",
      "35559  ...     NaN     NaN  0.019900  0.001900  0.005100  0.954800  0.018300   \n",
      "2282   ...  0.9803  0.0197  0.968200  0.000000  0.007050  0.017700  0.007050   \n",
      "23562  ...  0.9958  0.0042  0.233377  0.007899  0.009999  0.729727  0.018998   \n",
      "4319   ...  1.0000  0.0000  0.299500  0.004000  0.011600  0.617100  0.067800   \n",
      "17884  ...  0.9957  0.0043  0.936900  0.003400  0.026500  0.007700  0.025500   \n",
      "\n",
      "       art_better  journ_better  art_journ_same  \n",
      "35559       False          True           False  \n",
      "2282        False          True           False  \n",
      "23562       False          True           False  \n",
      "4319        False          True           False  \n",
      "17884       False          True           False  \n",
      "\n",
      "[5 rows x 23 columns]\n",
      "1617  ***  3873\n",
      "496   1124   1617   3873\n",
      "citation elite male:  0.7054644808743169 citation elite female:  0.29453551912568304\n",
      "journal elite male:  0.6938271604938272 journal elite female:  0.30617283950617286\n"
     ]
    }
   ],
   "source": [
    "d = pd.read_csv(\"not_enough_credit_JIF_15.csv\")\n",
    "d = d.sort_values(by = ['glam'], ascending = False)\n",
    "data = d.head(10000)\n",
    "print(data.head(5))\n",
    "\n",
    "glm_bet = data[data.hits < data.glam]\n",
    "hit_bet = data[data.hits > data.glam]\n",
    "\n",
    "glm_bet = glm_bet.dropna(subset=['female','male'])\n",
    "#gender = [\"Female\" if glm_bet['female'][ind] > glm_bet['male'][ind] else \"Male\" for ind in glm_bet.index]\n",
    "gender = []\n",
    "for ind in glm_bet.index:\n",
    "    if glm_bet['female'][ind] > glm_bet['male'][ind]:\n",
    "        gender.append(\"Female\")\n",
    "    elif glm_bet['female'][ind] < glm_bet['male'][ind]:\n",
    "        gender.append(\"Male\") \n",
    "    \n",
    "glm_bet['gender'] = gender\n",
    "gm = glm_bet[glm_bet.gender == \"Male\"]\n",
    "gf = glm_bet[glm_bet.gender == \"Female\"]\n",
    "\n",
    "\n",
    "hit_bet = hit_bet.dropna(subset=['female','male'])\n",
    "print(len(hit_bet[hit_bet['female'] > hit_bet['male']]),\" *** \", len(hit_bet[hit_bet['male'] > hit_bet['female']]))\n",
    "#gender = [\"Female\" if hit_bet['female'][ind] > hit_bet['male'][ind] else \"Male\" for ind in hit_bet.index]\n",
    "gender = []\n",
    "for ind in hit_bet.index:\n",
    "    if hit_bet['female'][ind] > hit_bet['male'][ind]:\n",
    "        gender.append(\"Female\")\n",
    "    elif hit_bet['female'][ind] < hit_bet['male'][ind]:\n",
    "        gender.append(\"Male\") \n",
    "\n",
    "hit_bet['gender'] = gender\n",
    "hm = hit_bet[hit_bet.gender == \"Male\"]\n",
    "hf = hit_bet[hit_bet.gender == \"Female\"]\n",
    "\n",
    "print(len(gf),\" \",len(gm),\" \",len(hf),\" \",len(hm))\n",
    "#table = [[len(gf),len(gm)],[len(hf),len(hm)]]\n",
    "#stat, p, dof, expected = chi2_contingency(table)\n",
    "#print(stat,\" p val \",p,\" \",dof,\" \",expected)\n",
    "\n",
    "print(\"citation elite male: \", len(hm)/(len(hm) + len(hf)),\"citation elite female: \", len(hf)/(len(hm) + len(hf)))\n",
    "print(\"journal elite male: \", len(gm)/(len(gm) + len(gf)),\"journal elite female: \", len(gf)/(len(gm) + len(gf)))"
   ]
  },
  {
   "cell_type": "markdown",
   "id": "20ebd43b",
   "metadata": {},
   "source": [
    "### Glam top 10k: proportion of citation and journal elite in male and female"
   ]
  },
  {
   "cell_type": "code",
   "execution_count": 4,
   "id": "bbdf5ce4",
   "metadata": {},
   "outputs": [
    {
     "name": "stdout",
     "output_type": "stream",
     "text": [
      "prop of cit elite in male  77.50650390234141  jou elite in men  22.493496097658593\n",
      "prop of jour elite in female 23.473734027449126  cit elite in fem  76.52626597255087\n"
     ]
    }
   ],
   "source": [
    "d = pd.read_csv(\"not_enough_credit_JIF_15.csv\")\n",
    "d = d.sort_values(by = ['glam'], ascending = False)\n",
    "data = d.head(10000)\n",
    "\n",
    "\n",
    "glm_bet = data[data.hits < data.glam]\n",
    "hit_bet = data[data.hits > data.glam]\n",
    "\n",
    "glm_bet = glm_bet.dropna(subset=['female','male'])\n",
    "gender = [\"Female\" if glm_bet['female'][ind] > glm_bet['male'][ind] else \"Male\" for ind in glm_bet.index]\n",
    "glm_bet['gender'] = gender\n",
    "\n",
    "hit_bet = hit_bet.dropna(subset=['female','male'])\n",
    "gender = [\"Female\" if hit_bet['female'][ind] > hit_bet['male'][ind] else \"Male\" for ind in hit_bet.index]\n",
    "hit_bet['gender'] = gender\n",
    "\n",
    "t1 = len(glm_bet)\n",
    "t2 = len(hit_bet)\n",
    "\n",
    "hmale = len(hit_bet[hit_bet.gender == 'Male'])\n",
    "hfemale = len(hit_bet[hit_bet.gender == 'Female'])\n",
    "\n",
    "gmale = len(glm_bet[glm_bet.gender == 'Male'])\n",
    "gfemale = len(glm_bet[glm_bet.gender == 'Female'])\n",
    "\n",
    "df = pd.DataFrame({\n",
    "    'Gender': ['Male', 'Female', 'Female','Male'],\n",
    "    'Glam': [\"More recognition\\nby citation\", 'More recognition\\nby journal', \"More recognition\\nby citation\",\"More recognition\\nby journal\"],\n",
    "    'Frequency': [(len(hit_bet[hit_bet.gender == 'Male'])/(hmale+gmale))*100, (len(glm_bet[glm_bet.gender == 'Female'])/(hfemale+gfemale))*100,\n",
    "                  (len(hit_bet[hit_bet.gender == 'Female'])/(hfemale+gfemale))*100, (len(glm_bet[glm_bet.gender == 'Male'])/(hmale+gmale))*100]\n",
    "})\n",
    "print(\"prop of cit elite in male \",((hmale)/(hmale+gmale))*100,\" jou elite in men \", \n",
    "      ((gmale)/(hmale+gmale))*100)\n",
    "print(\"prop of jour elite in female\",((gfemale)/(hfemale+gfemale))*100,\" cit elite in fem \",\n",
    "                  ((hfemale)/(hfemale+gfemale))*100)"
   ]
  },
  {
   "cell_type": "markdown",
   "id": "37e1fc23",
   "metadata": {},
   "source": [
    "### Glam top 10k: row 2 - proportion of hit glam across race"
   ]
  },
  {
   "cell_type": "code",
   "execution_count": 5,
   "id": "afcccc74",
   "metadata": {},
   "outputs": [
    {
     "name": "stdout",
     "output_type": "stream",
     "text": [
      "10000\n",
      "430   11   1390   55   1121   48   4845   191\n",
      "asian glam  0.27724049000644746  hit  0.7227595099935525\n",
      "black glam  0.1864406779661017  hit  0.8135593220338984\n",
      "white glam  0.22293504410585405  hit  0.7770649558941459\n",
      "hispanic glam  0.22357723577235772  hit  0.7764227642276422\n"
     ]
    }
   ],
   "source": [
    "d = pd.read_csv(\"not_enough_credit_JIF_15.csv\")\n",
    "d = d.sort_values(by = ['glam'], ascending = False)\n",
    "d = d.dropna(subset=['white','black','his','asi','oth'])\n",
    "data = d.head(10000)\n",
    "\n",
    "print(len(data))\n",
    "\n",
    "\n",
    "glm_bet = data[data.hits < data.glam]\n",
    "hit_bet = data[data.hits > data.glam]\n",
    "ga = glm_bet[glm_bet.asi > 0.50]\n",
    "gb = glm_bet[glm_bet.black > 0.50]\n",
    "gw = glm_bet[glm_bet.white > 0.50]\n",
    "ha = hit_bet[hit_bet.asi > 0.50]\n",
    "hb = hit_bet[hit_bet.black > 0.50]\n",
    "hw = hit_bet[hit_bet.white > 0.50]\n",
    "gh = glm_bet[glm_bet.his > 0.50]\n",
    "hh = hit_bet[hit_bet.his > 0.50]\n",
    "print(len(ga),\" \",len(gb),' ',len(gw),\" \",len(gh),\" \",len(ha),\" \",len(hb),\" \",len(hw),\" \",len(hh))\n",
    "'''table = [[len(ga),len(gb),len(gw),len(gh)],[len(ha),len(hb),len(hw),len(hh)]]\n",
    "stat, p, dof, expected = chi2_contingency(table)\n",
    "print(\"statistics \",stat,\" p val \",p,\" dof \",dof,\" expected \",expected)'''\n",
    "\n",
    "print(\"asian glam \",len(ga)/(len(ga)+len(ha)),\" hit \",len(ha)/(len(ga)+len(ha)))\n",
    "print(\"black glam \",len(gb)/(len(gb)+len(hb)),\" hit \",len(hb)/(len(gb)+len(hb)))\n",
    "print(\"white glam \",len(gw)/(len(gw)+len(hw)),\" hit \",len(hw)/(len(gw)+len(hw)))\n",
    "print(\"hispanic glam \",len(gh)/(len(gh)+len(hh)),\" hit \",len(hh)/(len(gh)+len(hh)))"
   ]
  },
  {
   "cell_type": "markdown",
   "id": "498f7155",
   "metadata": {},
   "source": [
    "### Glam top 10k: Career stage proportion"
   ]
  },
  {
   "cell_type": "code",
   "execution_count": 6,
   "id": "eaed1b1f",
   "metadata": {},
   "outputs": [
    {
     "name": "stdout",
     "output_type": "stream",
     "text": [
      "70   191   1653   92   508   5698\n",
      "early glam  0.43209876543209874  hit  0.5679012345679012\n",
      "mid glam  0.2732474964234621  hit  0.7267525035765379\n",
      "senior glam  0.22486736498435586  hit  0.7751326350156441\n"
     ]
    },
    {
     "name": "stderr",
     "output_type": "stream",
     "text": [
      "<ipython-input-6-01bcaef9dabb>:8: SettingWithCopyWarning: \n",
      "A value is trying to be set on a copy of a slice from a DataFrame.\n",
      "Try using .loc[row_indexer,col_indexer] = value instead\n",
      "\n",
      "See the caveats in the documentation: https://pandas.pydata.org/pandas-docs/stable/user_guide/indexing.html#returning-a-view-versus-a-copy\n",
      "  glm_bet['age'] =glm_bet['endyear'] - glm_bet['startyear']\n",
      "<ipython-input-6-01bcaef9dabb>:9: SettingWithCopyWarning: \n",
      "A value is trying to be set on a copy of a slice from a DataFrame.\n",
      "Try using .loc[row_indexer,col_indexer] = value instead\n",
      "\n",
      "See the caveats in the documentation: https://pandas.pydata.org/pandas-docs/stable/user_guide/indexing.html#returning-a-view-versus-a-copy\n",
      "  hit_bet['age'] =hit_bet['endyear'] - hit_bet['startyear']\n"
     ]
    },
    {
     "data": {
      "text/plain": [
       "'table = [[ga,gb,gc],[ha,hb,hc]]\\nprint(\"printing results \")\\nstat, p, dof, expected = chi2_contingency(table)\\nprint(stat,\" p val \",p,\" \",dof,\" \",expected)'"
      ]
     },
     "execution_count": 6,
     "metadata": {},
     "output_type": "execute_result"
    }
   ],
   "source": [
    "d = pd.read_csv(\"not_enough_credit_JIF_15.csv\")\n",
    "d = d.sort_values(by = ['glam'], ascending = False)\n",
    "data = d.head(10000)\n",
    "\n",
    "\n",
    "glm_bet = data[data.hits < data.glam]\n",
    "hit_bet = data[data.hits > data.glam]\n",
    "glm_bet['age'] =glm_bet['endyear'] - glm_bet['startyear']\n",
    "hit_bet['age'] =hit_bet['endyear'] - hit_bet['startyear']\n",
    "a = len(glm_bet)\n",
    "b = len(hit_bet)\n",
    "\n",
    "\n",
    "glm_bet_early = glm_bet[glm_bet.age <= 5]\n",
    "glm_bet_senior = glm_bet[glm_bet.age > 10]\n",
    "glm_bet_mid = glm_bet[glm_bet.age <= 10]\n",
    "glm_bet_mid = glm_bet_mid[glm_bet_mid.age > 5]\n",
    "\n",
    "ga = len(glm_bet_early)\n",
    "gb = len(glm_bet_mid)\n",
    "gc = len(glm_bet_senior)\n",
    "\n",
    "hit_bet_early = hit_bet[hit_bet.age <= 5]\n",
    "hit_bet_senior = hit_bet[hit_bet.age > 10]\n",
    "hit_bet_mid = hit_bet[hit_bet.age <= 10]\n",
    "hit_bet_mid = hit_bet_mid[hit_bet_mid.age > 5]\n",
    "\n",
    "ha = len(hit_bet_early)\n",
    "hb = len(hit_bet_mid)\n",
    "hc = len(hit_bet_senior)\n",
    "print(ga,\" \",gb, \" \",gc,\" \",ha,\" \",hb,\" \",hc)\n",
    "\n",
    "print(\"early glam \", ga/(ga+ha),\" hit \", ha/(ga+ha))\n",
    "print(\"mid glam \", gb/(gb+hb),\" hit \", hb/(gb+hb))\n",
    "print(\"senior glam \", gc/(gc+hc),\" hit \", hc/(gc+hc))\n",
    "'''table = [[ga,gb,gc],[ha,hb,hc]]\n",
    "print(\"printing results \")\n",
    "stat, p, dof, expected = chi2_contingency(table)\n",
    "print(stat,\" p val \",p,\" \",dof,\" \",expected)'''"
   ]
  },
  {
   "cell_type": "markdown",
   "id": "3874d754",
   "metadata": {},
   "source": [
    "### Glam top 10k: last pie: proportion of glam and hit in the entire dataset"
   ]
  },
  {
   "cell_type": "code",
   "execution_count": 7,
   "id": "890989d6",
   "metadata": {},
   "outputs": [
    {
     "name": "stdout",
     "output_type": "stream",
     "text": [
      "23.30735509011203\n",
      "76.69264490988796\n"
     ]
    }
   ],
   "source": [
    "d = pd.read_csv(\"not_enough_credit_JIF_15.csv\")\n",
    "d = d.sort_values(by = ['glam'], ascending = False)\n",
    "data = d.head(10000)\n",
    "\n",
    "\n",
    "glm_bet = data[data.hits < data.glam]\n",
    "hit_bet = data[data.hits > data.glam]\n",
    "\n",
    "print((len(glm_bet)/(len(glm_bet)+len(hit_bet)))*100)\n",
    "print((len(hit_bet)/(len(glm_bet)+len(hit_bet)))*100)\n",
    "\n"
   ]
  },
  {
   "cell_type": "markdown",
   "id": "4d775bc2",
   "metadata": {},
   "source": [
    "### Hit top 10k: First two - prop of male-female in citation elite and journal elite"
   ]
  },
  {
   "cell_type": "code",
   "execution_count": 14,
   "id": "c862ab8f",
   "metadata": {},
   "outputs": [
    {
     "name": "stdout",
     "output_type": "stream",
     "text": [
      "2897  ***  5225\n",
      "77   175   2897   5225\n",
      "citation elite male:  0.6433144545678404 citation elite female:  0.3566855454321596\n",
      "journal elite male:  0.6944444444444444 journal elite female:  0.3055555555555556\n"
     ]
    }
   ],
   "source": [
    "d = pd.read_csv(\"not_enough_credit_JIF_15.csv\")\n",
    "d = d.sort_values(by = ['hits'], ascending = False)\n",
    "data = d.head(10000)\n",
    "\n",
    "\n",
    "glm_bet = data[data.hits < data.glam]\n",
    "hit_bet = data[data.hits > data.glam]\n",
    "\n",
    "glm_bet = glm_bet.dropna(subset=['female','male'])\n",
    "#gender = [\"Female\" if glm_bet['female'][ind] > glm_bet['male'][ind] else \"Male\" for ind in glm_bet.index]\n",
    "gender = []\n",
    "for ind in glm_bet.index:\n",
    "    if glm_bet['female'][ind] > glm_bet['male'][ind]:\n",
    "        gender.append(\"Female\")\n",
    "    elif glm_bet['female'][ind] < glm_bet['male'][ind]:\n",
    "        gender.append(\"Male\") \n",
    "    \n",
    "glm_bet['gender'] = gender\n",
    "gm = glm_bet[glm_bet.gender == \"Male\"]\n",
    "gf = glm_bet[glm_bet.gender == \"Female\"]\n",
    "\n",
    "\n",
    "hit_bet = hit_bet.dropna(subset=['female','male'])\n",
    "print(len(hit_bet[hit_bet['female'] > hit_bet['male']]),\" *** \", len(hit_bet[hit_bet['male'] > hit_bet['female']]))\n",
    "#gender = [\"Female\" if hit_bet['female'][ind] > hit_bet['male'][ind] else \"Male\" for ind in hit_bet.index]\n",
    "gender = []\n",
    "for ind in hit_bet.index:\n",
    "    if hit_bet['female'][ind] > hit_bet['male'][ind]:\n",
    "        gender.append(\"Female\")\n",
    "    elif hit_bet['female'][ind] < hit_bet['male'][ind]:\n",
    "        gender.append(\"Male\") \n",
    "\n",
    "hit_bet['gender'] = gender\n",
    "hm = hit_bet[hit_bet.gender == \"Male\"]\n",
    "hf = hit_bet[hit_bet.gender == \"Female\"]\n",
    "\n",
    "print(len(gf),\" \",len(gm),\" \",len(hf),\" \",len(hm))\n",
    "#table = [[len(gf),len(gm)],[len(hf),len(hm)]]\n",
    "#stat, p, dof, expected = chi2_contingency(table)\n",
    "#print(stat,\" p val \",p,\" \",dof,\" \",expected)\n",
    "\n",
    "print(\"citation elite male: \", len(hm)/(len(hm) + len(hf)),\"citation elite female: \", len(hf)/(len(hm) + len(hf)))\n",
    "print(\"journal elite male: \", len(gm)/(len(gm) + len(gf)),\"journal elite female: \", len(gf)/(len(gm) + len(gf)))"
   ]
  },
  {
   "cell_type": "markdown",
   "id": "82b786a8",
   "metadata": {},
   "source": [
    "### Hit top 10k: proportion of citation and journal elite in male and female"
   ]
  },
  {
   "cell_type": "code",
   "execution_count": 15,
   "id": "bc0914dd",
   "metadata": {},
   "outputs": [
    {
     "name": "stdout",
     "output_type": "stream",
     "text": [
      "prop of cit elite in male  96.75925925925925  jou elite in men  3.2407407407407405\n",
      "prop of jour elite in female 2.589105581708137  cit elite in fem  97.41089441829186\n"
     ]
    }
   ],
   "source": [
    "d = pd.read_csv(\"not_enough_credit_JIF_15.csv\")\n",
    "d = d.sort_values(by = ['hits'], ascending = False)\n",
    "data = d.head(10000)\n",
    "\n",
    "\n",
    "glm_bet = data[data.hits < data.glam]\n",
    "hit_bet = data[data.hits > data.glam]\n",
    "\n",
    "glm_bet = glm_bet.dropna(subset=['female','male'])\n",
    "gender = [\"Female\" if glm_bet['female'][ind] > glm_bet['male'][ind] else \"Male\" for ind in glm_bet.index]\n",
    "glm_bet['gender'] = gender\n",
    "\n",
    "hit_bet = hit_bet.dropna(subset=['female','male'])\n",
    "gender = [\"Female\" if hit_bet['female'][ind] > hit_bet['male'][ind] else \"Male\" for ind in hit_bet.index]\n",
    "hit_bet['gender'] = gender\n",
    "\n",
    "t1 = len(glm_bet)\n",
    "t2 = len(hit_bet)\n",
    "\n",
    "hmale = len(hit_bet[hit_bet.gender == 'Male'])\n",
    "hfemale = len(hit_bet[hit_bet.gender == 'Female'])\n",
    "\n",
    "gmale = len(glm_bet[glm_bet.gender == 'Male'])\n",
    "gfemale = len(glm_bet[glm_bet.gender == 'Female'])\n",
    "\n",
    "df = pd.DataFrame({\n",
    "    'Gender': ['Male', 'Female', 'Female','Male'],\n",
    "    'Glam': [\"More recognition\\nby citation\", 'More recognition\\nby journal', \"More recognition\\nby citation\",\"More recognition\\nby journal\"],\n",
    "    'Frequency': [(len(hit_bet[hit_bet.gender == 'Male'])/(hmale+gmale))*100, (len(glm_bet[glm_bet.gender == 'Female'])/(hfemale+gfemale))*100,\n",
    "                  (len(hit_bet[hit_bet.gender == 'Female'])/(hfemale+gfemale))*100, (len(glm_bet[glm_bet.gender == 'Male'])/(hmale+gmale))*100]\n",
    "})\n",
    "print(\"prop of cit elite in male \",((hmale)/(hmale+gmale))*100,\" jou elite in men \", \n",
    "      ((gmale)/(hmale+gmale))*100)\n",
    "print(\"prop of jour elite in female\",((gfemale)/(hfemale+gfemale))*100,\" cit elite in fem \",\n",
    "                  ((hfemale)/(hfemale+gfemale))*100)"
   ]
  },
  {
   "cell_type": "markdown",
   "id": "75044f33",
   "metadata": {},
   "source": [
    "### Hit top 10k: row 2 - proportion of hit glam across race"
   ]
  },
  {
   "cell_type": "code",
   "execution_count": 13,
   "id": "bdd42140",
   "metadata": {},
   "outputs": [
    {
     "name": "stdout",
     "output_type": "stream",
     "text": [
      "10000\n",
      "77   3   217   8   1483   75   7187   300\n",
      "asian glam  0.04935897435897436  hit  0.9506410256410256\n",
      "black glam  0.038461538461538464  hit  0.9615384615384616\n",
      "white glam  0.02930848190167477  hit  0.9706915180983252\n",
      "hispanic glam  0.025974025974025976  hit  0.974025974025974\n"
     ]
    }
   ],
   "source": [
    "d = pd.read_csv(\"not_enough_credit_JIF_15.csv\")\n",
    "d = d.sort_values(by = ['hits'], ascending = False)\n",
    "d = d.dropna(subset=['white','black','his','asi','oth'])\n",
    "data = d.head(10000)\n",
    "\n",
    "print(len(data))\n",
    "\n",
    "\n",
    "glm_bet = data[data.hits < data.glam]\n",
    "hit_bet = data[data.hits > data.glam]\n",
    "ga = glm_bet[glm_bet.asi > 0.50]\n",
    "gb = glm_bet[glm_bet.black > 0.50]\n",
    "gw = glm_bet[glm_bet.white > 0.50]\n",
    "ha = hit_bet[hit_bet.asi > 0.50]\n",
    "hb = hit_bet[hit_bet.black > 0.50]\n",
    "hw = hit_bet[hit_bet.white > 0.50]\n",
    "gh = glm_bet[glm_bet.his > 0.50]\n",
    "hh = hit_bet[hit_bet.his > 0.50]\n",
    "print(len(ga),\" \",len(gb),' ',len(gw),\" \",len(gh),\" \",len(ha),\" \",len(hb),\" \",len(hw),\" \",len(hh))\n",
    "'''table = [[len(ga),len(gb),len(gw),len(gh)],[len(ha),len(hb),len(hw),len(hh)]]\n",
    "stat, p, dof, expected = chi2_contingency(table)\n",
    "print(\"statistics \",stat,\" p val \",p,\" dof \",dof,\" expected \",expected)'''\n",
    "\n",
    "print(\"asian glam \",len(ga)/(len(ga)+len(ha)),\" hit \",len(ha)/(len(ga)+len(ha)))\n",
    "print(\"black glam \",len(gb)/(len(gb)+len(hb)),\" hit \",len(hb)/(len(gb)+len(hb)))\n",
    "print(\"white glam \",len(gw)/(len(gw)+len(hw)),\" hit \",len(hw)/(len(gw)+len(hw)))\n",
    "print(\"hispanic glam \",len(gh)/(len(gh)+len(hh)),\" hit \",len(hh)/(len(gh)+len(hh)))"
   ]
  },
  {
   "cell_type": "markdown",
   "id": "4439bf0f",
   "metadata": {},
   "source": [
    "### Hit top 10k: Career stage proportion"
   ]
  },
  {
   "cell_type": "code",
   "execution_count": 12,
   "id": "1ae293e7",
   "metadata": {},
   "outputs": [
    {
     "name": "stdout",
     "output_type": "stream",
     "text": [
      "16   32   258   433   1085   7683\n",
      "early glam  0.035634743875278395  hit  0.9643652561247216\n",
      "mid glam  0.02864816472694718  hit  0.9713518352730528\n",
      "senior glam  0.032489610880241784  hit  0.9675103891197582\n"
     ]
    },
    {
     "name": "stderr",
     "output_type": "stream",
     "text": [
      "<ipython-input-12-345db8ce1afb>:8: SettingWithCopyWarning: \n",
      "A value is trying to be set on a copy of a slice from a DataFrame.\n",
      "Try using .loc[row_indexer,col_indexer] = value instead\n",
      "\n",
      "See the caveats in the documentation: https://pandas.pydata.org/pandas-docs/stable/user_guide/indexing.html#returning-a-view-versus-a-copy\n",
      "  glm_bet['age'] =glm_bet['endyear'] - glm_bet['startyear']\n",
      "<ipython-input-12-345db8ce1afb>:9: SettingWithCopyWarning: \n",
      "A value is trying to be set on a copy of a slice from a DataFrame.\n",
      "Try using .loc[row_indexer,col_indexer] = value instead\n",
      "\n",
      "See the caveats in the documentation: https://pandas.pydata.org/pandas-docs/stable/user_guide/indexing.html#returning-a-view-versus-a-copy\n",
      "  hit_bet['age'] =hit_bet['endyear'] - hit_bet['startyear']\n"
     ]
    },
    {
     "data": {
      "text/plain": [
       "'table = [[ga,gb,gc],[ha,hb,hc]]\\nprint(\"printing results \")\\nstat, p, dof, expected = chi2_contingency(table)\\nprint(stat,\" p val \",p,\" \",dof,\" \",expected)'"
      ]
     },
     "execution_count": 12,
     "metadata": {},
     "output_type": "execute_result"
    }
   ],
   "source": [
    "d = pd.read_csv(\"not_enough_credit_JIF_15.csv\")\n",
    "d = d.sort_values(by = ['hits'], ascending = False)\n",
    "data = d.head(10000)\n",
    "\n",
    "\n",
    "glm_bet = data[data.hits < data.glam]\n",
    "hit_bet = data[data.hits > data.glam]\n",
    "glm_bet['age'] =glm_bet['endyear'] - glm_bet['startyear']\n",
    "hit_bet['age'] =hit_bet['endyear'] - hit_bet['startyear']\n",
    "a = len(glm_bet)\n",
    "b = len(hit_bet)\n",
    "\n",
    "\n",
    "glm_bet_early = glm_bet[glm_bet.age <= 5]\n",
    "glm_bet_senior = glm_bet[glm_bet.age > 10]\n",
    "glm_bet_mid = glm_bet[glm_bet.age <= 10]\n",
    "glm_bet_mid = glm_bet_mid[glm_bet_mid.age > 5]\n",
    "\n",
    "ga = len(glm_bet_early)\n",
    "gb = len(glm_bet_mid)\n",
    "gc = len(glm_bet_senior)\n",
    "\n",
    "hit_bet_early = hit_bet[hit_bet.age <= 5]\n",
    "hit_bet_senior = hit_bet[hit_bet.age > 10]\n",
    "hit_bet_mid = hit_bet[hit_bet.age <= 10]\n",
    "hit_bet_mid = hit_bet_mid[hit_bet_mid.age > 5]\n",
    "\n",
    "ha = len(hit_bet_early)\n",
    "hb = len(hit_bet_mid)\n",
    "hc = len(hit_bet_senior)\n",
    "print(ga,\" \",gb, \" \",gc,\" \",ha,\" \",hb,\" \",hc)\n",
    "\n",
    "print(\"early glam \", ga/(ga+ha),\" hit \", ha/(ga+ha))\n",
    "print(\"mid glam \", gb/(gb+hb),\" hit \", hb/(gb+hb))\n",
    "print(\"senior glam \", gc/(gc+hc),\" hit \", hc/(gc+hc))\n",
    "'''table = [[ga,gb,gc],[ha,hb,hc]]\n",
    "print(\"printing results \")\n",
    "stat, p, dof, expected = chi2_contingency(table)\n",
    "print(stat,\" p val \",p,\" \",dof,\" \",expected)'''"
   ]
  },
  {
   "cell_type": "markdown",
   "id": "e9083c89",
   "metadata": {},
   "source": [
    "### Hit top 10k: last pie: proportion of glam and hit in the entire dataset"
   ]
  },
  {
   "cell_type": "code",
   "execution_count": 11,
   "id": "e52edcaf",
   "metadata": {},
   "outputs": [
    {
     "name": "stdout",
     "output_type": "stream",
     "text": [
      "3.218680971915431\n",
      "96.78131902808457\n"
     ]
    }
   ],
   "source": [
    "d = pd.read_csv(\"not_enough_credit_JIF_15.csv\")\n",
    "d = d.sort_values(by = ['hits'], ascending = False)\n",
    "data = d.head(10000)\n",
    "\n",
    "glm_bet = data[data.hits < data.glam]\n",
    "hit_bet = data[data.hits > data.glam]\n",
    "\n",
    "print((len(glm_bet)/(len(glm_bet)+len(hit_bet)))*100)\n",
    "print((len(hit_bet)/(len(glm_bet)+len(hit_bet)))*100)"
   ]
  },
  {
   "cell_type": "markdown",
   "id": "d8e95bbd",
   "metadata": {},
   "source": [
    "### Glam bottom 10k: First two - prop of male-female in citation elite and journal elite"
   ]
  },
  {
   "cell_type": "code",
   "execution_count": 8,
   "id": "b9cce00c",
   "metadata": {},
   "outputs": [
    {
     "name": "stdout",
     "output_type": "stream",
     "text": [
      "50422  0 glam  31328  0 hits  13616\n",
      "length after dropping 0 glam and hits 18128\n",
      "0\n",
      "2421  ***  5420\n",
      "30   73   2421   5420\n",
      "citation elite male:  0.6912383624537687 citation elite female:  0.30876163754623137\n",
      "journal elite male:  0.7019230769230769 journal elite female:  0.28846153846153844\n"
     ]
    }
   ],
   "source": [
    "d = pd.read_csv(\"not_enough_credit_JIF_15.csv\")\n",
    "print(len(d), \" 0 glam \",len(d[d['glam'] <= 0.00]),\" 0 hits \",len(d[d['hits'] <= 0.00]))\n",
    "d = d[d['hits'] > 0.00]\n",
    "d = d[d['glam'] > 0.00]\n",
    "print(\"length after dropping 0 glam and hits\",len(d))\n",
    "\n",
    "d = d.sort_values(by = ['glam'], ascending = False)\n",
    "data = d.tail(10000)\n",
    "print(len(data[data['hits'] == 0]))\n",
    "\n",
    "\n",
    "glm_bet = data[data.hits < data.glam]\n",
    "hit_bet = data[data.hits > data.glam]\n",
    "\n",
    "glm_bet = glm_bet.dropna(subset=['female','male'])\n",
    "#gender = [\"Female\" if glm_bet['female'][ind] > glm_bet['male'][ind] else \"Male\" for ind in glm_bet.index]\n",
    "gender = []\n",
    "for ind in glm_bet.index:\n",
    "    if glm_bet['female'][ind] > glm_bet['male'][ind]:\n",
    "        gender.append(\"Female\")\n",
    "    elif glm_bet['female'][ind] < glm_bet['male'][ind]:\n",
    "        gender.append(\"Male\") \n",
    "    \n",
    "glm_bet['gender'] = gender\n",
    "gm = glm_bet[glm_bet.gender == \"Male\"]\n",
    "gf = glm_bet[glm_bet.gender == \"Female\"]\n",
    "\n",
    "\n",
    "hit_bet = hit_bet.dropna(subset=['female','male'])\n",
    "print(len(hit_bet[hit_bet['female'] > hit_bet['male']]),\" *** \", len(hit_bet[hit_bet['male'] > hit_bet['female']]))\n",
    "#gender = [\"Female\" if hit_bet['female'][ind] > hit_bet['male'][ind] else \"Male\" for ind in hit_bet.index]\n",
    "gender = []\n",
    "for ind in hit_bet.index:\n",
    "    if hit_bet['female'][ind] > hit_bet['male'][ind]:\n",
    "        gender.append(\"Female\")\n",
    "    elif hit_bet['female'][ind] < hit_bet['male'][ind]:\n",
    "        gender.append(\"Male\") \n",
    "\n",
    "hit_bet['gender'] = gender\n",
    "hm = hit_bet[hit_bet.gender == \"Male\"]\n",
    "hf = hit_bet[hit_bet.gender == \"Female\"]\n",
    "\n",
    "print(len(gf),\" \",len(gm),\" \",len(hf),\" \",len(hm))\n",
    "#table = [[len(gf),len(gm)],[len(hf),len(hm)]]\n",
    "#stat, p, dof, expected = chi2_contingency(table)\n",
    "#print(stat,\" p val \",p,\" \",dof,\" \",expected)\n",
    "\n",
    "print(\"citation elite male: \", len(hm)/(len(hm) + len(hf)),\"citation elite female: \", len(hf)/(len(hm) + len(hf)))\n",
    "print(\"journal elite male: \", len(gm)/(len(gm) + len(gf) + 1),\"journal elite female: \", len(gf)/(len(gm) + len(gf) + 1))"
   ]
  },
  {
   "cell_type": "markdown",
   "id": "9020be6d",
   "metadata": {},
   "source": [
    "### Glam bottom 10k: proportion of citation and journal elite in male and female"
   ]
  },
  {
   "cell_type": "code",
   "execution_count": 9,
   "id": "424745a0",
   "metadata": {},
   "outputs": [
    {
     "name": "stdout",
     "output_type": "stream",
     "text": [
      "50422  0 glam  31328  0 hits  13616\n",
      "length after dropping 0 glam and hits 18128\n",
      "120\n",
      "prop of cit elite in male  98.67103586382669  jou elite in men  1.3289641361733115\n",
      "prop of jour elite in female 1.2239902080783354  cit elite in fem  98.77600979192167\n"
     ]
    }
   ],
   "source": [
    "d = pd.read_csv(\"not_enough_credit_JIF_15.csv\")\n",
    "print(len(d), \" 0 glam \",len(d[d['glam'] <= 0.00]),\" 0 hits \",len(d[d['hits'] <= 0.00]))\n",
    "d = d[d['hits'] > 0.00]\n",
    "d = d[d['glam'] > 0.00]\n",
    "print(\"length after dropping 0 glam and hits\",len(d))\n",
    "\n",
    "\n",
    "d = d.sort_values(by = ['glam'], ascending = False)\n",
    "data = d.tail(10000)\n",
    "\n",
    "\n",
    "glm_bet = data[data.hits < data.glam]\n",
    "hit_bet = data[data.hits > data.glam]\n",
    "\n",
    "print(len(glm_bet))\n",
    "\n",
    "glm_bet = glm_bet.dropna(subset=['female','male'])\n",
    "gender = [\"Female\" if glm_bet['female'][ind] > glm_bet['male'][ind] else \"Male\" for ind in glm_bet.index]\n",
    "glm_bet['gender'] = gender\n",
    "\n",
    "hit_bet = hit_bet.dropna(subset=['female','male'])\n",
    "gender = [\"Female\" if hit_bet['female'][ind] > hit_bet['male'][ind] else \"Male\" for ind in hit_bet.index]\n",
    "hit_bet['gender'] = gender\n",
    "\n",
    "t1 = len(glm_bet)\n",
    "t2 = len(hit_bet)\n",
    "\n",
    "hmale = len(hit_bet[hit_bet.gender == 'Male'])\n",
    "hfemale = len(hit_bet[hit_bet.gender == 'Female'])\n",
    "\n",
    "gmale = len(glm_bet[glm_bet.gender == 'Male'])\n",
    "gfemale = len(glm_bet[glm_bet.gender == 'Female'])\n",
    "\n",
    "df = pd.DataFrame({\n",
    "    'Gender': ['Male', 'Female', 'Female','Male'],\n",
    "    'Glam': [\"More recognition\\nby citation\", 'More recognition\\nby journal', \"More recognition\\nby citation\",\"More recognition\\nby journal\"],\n",
    "    'Frequency': [(len(hit_bet[hit_bet.gender == 'Male'])/(hmale+gmale))*100, (len(glm_bet[glm_bet.gender == 'Female'])/(hfemale+gfemale))*100,\n",
    "                  (len(hit_bet[hit_bet.gender == 'Female'])/(hfemale+gfemale))*100, (len(glm_bet[glm_bet.gender == 'Male'])/(hmale+gmale))*100]\n",
    "})\n",
    "print(\"prop of cit elite in male \",((hmale)/(hmale+gmale))*100,\" jou elite in men \", \n",
    "      ((gmale)/(hmale+gmale))*100)\n",
    "print(\"prop of jour elite in female\",((gfemale)/(hfemale+gfemale))*100,\" cit elite in fem \",\n",
    "                  ((hfemale)/(hfemale+gfemale))*100)"
   ]
  },
  {
   "cell_type": "markdown",
   "id": "9e887ab3",
   "metadata": {},
   "source": [
    "### Glam bottom 10k: row 2 - proportion of hit glam across race"
   ]
  },
  {
   "cell_type": "code",
   "execution_count": 10,
   "id": "ff60e04a",
   "metadata": {},
   "outputs": [
    {
     "name": "stdout",
     "output_type": "stream",
     "text": [
      "50422  0 glam  31328  0 hits  13616\n",
      "length after dropping 0 glam and hits 18128\n",
      "10000\n",
      "20   1   93   2   1360   91   7017   232\n",
      "asian glam  0.014492753623188406  hit  0.9855072463768116\n",
      "black glam  0.010869565217391304  hit  0.9891304347826086\n",
      "white glam  0.013080168776371307  hit  0.9869198312236287\n",
      "hispanic glam  0.008547008547008548  hit  0.9914529914529915\n"
     ]
    }
   ],
   "source": [
    "d = pd.read_csv(\"not_enough_credit_JIF_15.csv\")\n",
    "print(len(d), \" 0 glam \",len(d[d['glam'] <= 0.00]),\" 0 hits \",len(d[d['hits'] <= 0.00]))\n",
    "d = d[d['hits'] > 0.00]\n",
    "d = d[d['glam'] > 0.00]\n",
    "print(\"length after dropping 0 glam and hits\",len(d))\n",
    "\n",
    "\n",
    "\n",
    "d = d.sort_values(by = ['glam'], ascending = False)\n",
    "d = d.dropna(subset=['white','black','his','asi','oth'])\n",
    "data = d.tail(10000)\n",
    "\n",
    "print(len(data))\n",
    "\n",
    "\n",
    "glm_bet = data[data.hits < data.glam]\n",
    "hit_bet = data[data.hits > data.glam]\n",
    "ga = glm_bet[glm_bet.asi > 0.50]\n",
    "gb = glm_bet[glm_bet.black > 0.50]\n",
    "gw = glm_bet[glm_bet.white > 0.50]\n",
    "ha = hit_bet[hit_bet.asi > 0.50]\n",
    "hb = hit_bet[hit_bet.black > 0.50]\n",
    "hw = hit_bet[hit_bet.white > 0.50]\n",
    "gh = glm_bet[glm_bet.his > 0.50]\n",
    "hh = hit_bet[hit_bet.his > 0.50]\n",
    "print(len(ga),\" \",len(gb),' ',len(gw),\" \",len(gh),\" \",len(ha),\" \",len(hb),\" \",len(hw),\" \",len(hh))\n",
    "'''table = [[len(ga),len(gb),len(gw),len(gh)],[len(ha),len(hb),len(hw),len(hh)]]\n",
    "stat, p, dof, expected = chi2_contingency(table)\n",
    "print(\"statistics \",stat,\" p val \",p,\" dof \",dof,\" expected \",expected)'''\n",
    "\n",
    "print(\"asian glam \",len(ga)/(len(ga)+len(ha)),\" hit \",len(ha)/(len(ga)+len(ha)))\n",
    "print(\"black glam \",len(gb)/(len(gb)+len(hb)),\" hit \",len(hb)/(len(gb)+len(hb)))\n",
    "print(\"white glam \",len(gw)/(len(gw)+len(hw)),\" hit \",len(hw)/(len(gw)+len(hw)))\n",
    "print(\"hispanic glam \",len(gh)/(len(gh)+len(hh)),\" hit \",len(hh)/(len(gh)+len(hh)))"
   ]
  },
  {
   "cell_type": "markdown",
   "id": "10fa871c",
   "metadata": {},
   "source": [
    "### Glam bottom 10k: Career stage proportion"
   ]
  },
  {
   "cell_type": "code",
   "execution_count": 11,
   "id": "11b21c00",
   "metadata": {},
   "outputs": [
    {
     "name": "stdout",
     "output_type": "stream",
     "text": [
      "50422  0 glam  31328  0 hits  13616\n",
      "length after dropping 0 glam and hits 18128\n",
      "0   3   117   18   234   8588\n",
      "early glam  0.0  hit  1.0\n",
      "mid glam  0.012658227848101266  hit  0.9873417721518988\n",
      "senior glam  0.01344055140723722  hit  0.9865594485927628\n"
     ]
    },
    {
     "name": "stderr",
     "output_type": "stream",
     "text": [
      "<ipython-input-11-9e135b8446c0>:14: SettingWithCopyWarning: \n",
      "A value is trying to be set on a copy of a slice from a DataFrame.\n",
      "Try using .loc[row_indexer,col_indexer] = value instead\n",
      "\n",
      "See the caveats in the documentation: https://pandas.pydata.org/pandas-docs/stable/user_guide/indexing.html#returning-a-view-versus-a-copy\n",
      "  glm_bet['age'] =glm_bet['endyear'] - glm_bet['startyear']\n",
      "<ipython-input-11-9e135b8446c0>:15: SettingWithCopyWarning: \n",
      "A value is trying to be set on a copy of a slice from a DataFrame.\n",
      "Try using .loc[row_indexer,col_indexer] = value instead\n",
      "\n",
      "See the caveats in the documentation: https://pandas.pydata.org/pandas-docs/stable/user_guide/indexing.html#returning-a-view-versus-a-copy\n",
      "  hit_bet['age'] =hit_bet['endyear'] - hit_bet['startyear']\n"
     ]
    },
    {
     "data": {
      "text/plain": [
       "'table = [[ga,gb,gc],[ha,hb,hc]]\\nprint(\"printing results \")\\nstat, p, dof, expected = chi2_contingency(table)\\nprint(stat,\" p val \",p,\" \",dof,\" \",expected)'"
      ]
     },
     "execution_count": 11,
     "metadata": {},
     "output_type": "execute_result"
    }
   ],
   "source": [
    "d = pd.read_csv(\"not_enough_credit_JIF_15.csv\")\n",
    "print(len(d), \" 0 glam \",len(d[d['glam'] <= 0.00]),\" 0 hits \",len(d[d['hits'] <= 0.00]))\n",
    "d = d[d['hits'] > 0.00]\n",
    "d = d[d['glam'] > 0.00]\n",
    "print(\"length after dropping 0 glam and hits\",len(d))\n",
    "\n",
    "\n",
    "d = d.sort_values(by = ['glam'], ascending = False)\n",
    "data = d.tail(10000)\n",
    "\n",
    "\n",
    "glm_bet = data[data.hits < data.glam]\n",
    "hit_bet = data[data.hits > data.glam]\n",
    "glm_bet['age'] =glm_bet['endyear'] - glm_bet['startyear']\n",
    "hit_bet['age'] =hit_bet['endyear'] - hit_bet['startyear']\n",
    "a = len(glm_bet)\n",
    "b = len(hit_bet)\n",
    "\n",
    "\n",
    "glm_bet_early = glm_bet[glm_bet.age <= 5]\n",
    "glm_bet_senior = glm_bet[glm_bet.age > 10]\n",
    "glm_bet_mid = glm_bet[glm_bet.age <= 10]\n",
    "glm_bet_mid = glm_bet_mid[glm_bet_mid.age > 5]\n",
    "\n",
    "ga = len(glm_bet_early)\n",
    "gb = len(glm_bet_mid)\n",
    "gc = len(glm_bet_senior)\n",
    "\n",
    "hit_bet_early = hit_bet[hit_bet.age <= 5]\n",
    "hit_bet_senior = hit_bet[hit_bet.age > 10]\n",
    "hit_bet_mid = hit_bet[hit_bet.age <= 10]\n",
    "hit_bet_mid = hit_bet_mid[hit_bet_mid.age > 5]\n",
    "\n",
    "ha = len(hit_bet_early)\n",
    "hb = len(hit_bet_mid)\n",
    "hc = len(hit_bet_senior)\n",
    "print(ga,\" \",gb, \" \",gc,\" \",ha,\" \",hb,\" \",hc)\n",
    "\n",
    "print(\"early glam \", ga/(ga+ha),\" hit \", ha/(ga+ha))\n",
    "print(\"mid glam \", gb/(gb+hb),\" hit \", hb/(gb+hb))\n",
    "print(\"senior glam \", gc/(gc+hc),\" hit \", hc/(gc+hc))\n",
    "'''table = [[ga,gb,gc],[ha,hb,hc]]\n",
    "print(\"printing results \")\n",
    "stat, p, dof, expected = chi2_contingency(table)\n",
    "print(stat,\" p val \",p,\" \",dof,\" \",expected)'''"
   ]
  },
  {
   "cell_type": "markdown",
   "id": "1ccb9854",
   "metadata": {},
   "source": [
    "### Glam bottom 10k: last pie: proportion of glam and hit in the entire dataset"
   ]
  },
  {
   "cell_type": "code",
   "execution_count": 12,
   "id": "645bd0a0",
   "metadata": {},
   "outputs": [
    {
     "name": "stdout",
     "output_type": "stream",
     "text": [
      "50422  0 glam  31328  0 hits  13616\n",
      "length after dropping 0 glam and hits 18128\n",
      "1.3392857142857142\n",
      "98.66071428571429\n"
     ]
    }
   ],
   "source": [
    "d = pd.read_csv(\"not_enough_credit_JIF_15.csv\")\n",
    "print(len(d), \" 0 glam \",len(d[d['glam'] <= 0.00]),\" 0 hits \",len(d[d['hits'] <= 0.00]))\n",
    "d = d[d['hits'] > 0.00]\n",
    "d = d[d['glam'] > 0.00]\n",
    "print(\"length after dropping 0 glam and hits\",len(d))\n",
    "\n",
    "\n",
    "d = d.sort_values(by = ['glam'], ascending = False)\n",
    "data = d.tail(10000)\n",
    "\n",
    "\n",
    "glm_bet = data[data.hits < data.glam]\n",
    "hit_bet = data[data.hits > data.glam]\n",
    "\n",
    "print((len(glm_bet)/(len(glm_bet)+len(hit_bet)))*100)\n",
    "print((len(hit_bet)/(len(glm_bet)+len(hit_bet)))*100)"
   ]
  },
  {
   "cell_type": "markdown",
   "id": "eb794b85",
   "metadata": {},
   "source": [
    "### Overlap between top 10K glam and hits"
   ]
  },
  {
   "cell_type": "code",
   "execution_count": 19,
   "id": "343bf009",
   "metadata": {},
   "outputs": [
    {
     "name": "stdout",
     "output_type": "stream",
     "text": [
      "10000\n",
      "10000\n",
      "10000   10000 10000 10000\n",
      "5083\n"
     ]
    }
   ],
   "source": [
    "### Intersection \n",
    "\n",
    "d = pd.read_csv(\"not_enough_credit_JIF_15.csv\")\n",
    "d = d.sort_values(by = ['glam'], ascending = False)\n",
    "data = d.head(10000)\n",
    "print(data['url'].nunique())\n",
    "d_glam = data['url']\n",
    "\n",
    "d = pd.read_csv(\"not_enough_credit_JIF_15.csv\")\n",
    "d = d.sort_values(by = ['hits'], ascending = False)\n",
    "data = d.head(10000)\n",
    "print(data['url'].nunique())\n",
    "d_hits = data['url']\n",
    "\n",
    "print(len(d_glam),\" \",len(d_hits), len(set(d_glam)), len(set(d_hits)))\n",
    "\n",
    "\n",
    "print(len(list(set(d_glam) & set(d_hits))))\n",
    "#print(list(set(d_glam) & set(d_hits)))"
   ]
  },
  {
   "cell_type": "code",
   "execution_count": 18,
   "id": "235d8a39",
   "metadata": {},
   "outputs": [
    {
     "name": "stdout",
     "output_type": "stream",
     "text": [
      "                                                     url  startyear  endyear  \\\n",
      "37733  https://www.ncbi.nlm.nih.gov/myncbi/quaid.morr...       2003     2021   \n",
      "\n",
      "       decade      hits      glam  hits_rank  glam_rank  rcr_median     appl  \\\n",
      "37733    2000  0.271186  0.135593   0.864243   0.898277        1.48  8943020   \n",
      "\n",
      "       ...    male  female   white   black      his  asi      oth  art_better  \\\n",
      "37733  ...  0.9962  0.0038  0.9061  0.0552  0.01935  0.0  0.01935       False   \n",
      "\n",
      "       journ_better  art_journ_same  \n",
      "37733          True           False  \n",
      "\n",
      "[1 rows x 23 columns]\n"
     ]
    }
   ],
   "source": [
    "d = pd.read_csv(\"not_enough_credit_JIF_15.csv\")\n",
    "d = d.sort_values(by = ['glam'], ascending = False)\n",
    "data = d.head(10000)\n",
    "\n",
    "print(data[data['url'] == \"https://www.ncbi.nlm.nih.gov/myncbi/quaid.morris.1/bibliography/public/\"])"
   ]
  },
  {
   "cell_type": "code",
   "execution_count": 6,
   "id": "474c52fa",
   "metadata": {},
   "outputs": [],
   "source": [
    "### remove all the glam = 0s and hits = 0, keep only those having glam > 0 and hits > 0\n"
   ]
  },
  {
   "cell_type": "code",
   "execution_count": null,
   "id": "a1c19d2e",
   "metadata": {},
   "outputs": [],
   "source": []
  }
 ],
 "metadata": {
  "kernelspec": {
   "display_name": "Python 3",
   "language": "python",
   "name": "python3"
  },
  "language_info": {
   "codemirror_mode": {
    "name": "ipython",
    "version": 3
   },
   "file_extension": ".py",
   "mimetype": "text/x-python",
   "name": "python",
   "nbconvert_exporter": "python",
   "pygments_lexer": "ipython3",
   "version": "3.8.8"
  }
 },
 "nbformat": 4,
 "nbformat_minor": 5
}
