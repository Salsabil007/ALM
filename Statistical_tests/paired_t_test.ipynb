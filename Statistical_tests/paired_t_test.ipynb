{
 "cells": [
  {
   "cell_type": "code",
   "execution_count": 10,
   "id": "d911a159",
   "metadata": {},
   "outputs": [],
   "source": [
    "import pandas as pd\n",
    "import numpy as np\n",
    "import matplotlib.pyplot as plt\n",
    "import seaborn as sns\n",
    "import matplotlib.ticker as ticker\n",
    "import math\n",
    "import scipy.stats\n",
    "from scipy import stats\n",
    "from scipy.stats import mannwhitneyu\n",
    "from statsmodels.stats.proportion import proportions_ztest\n",
    "import statsmodels.stats.api as sms\n",
    "from pprint import pprint"
   ]
  },
  {
   "cell_type": "code",
   "execution_count": 22,
   "id": "edb72954",
   "metadata": {},
   "outputs": [
    {
     "name": "stdout",
     "output_type": "stream",
     "text": [
      "50422\n",
      "50422\n",
      "Ttest_relResult(statistic=164.0082415369688, pvalue=0.0)\n",
      "164.00824153696092\n"
     ]
    },
    {
     "data": {
      "image/png": "[encoded data removed]",
      "text/plain": [
       "<Figure size 432x288 with 1 Axes>"
      ]
     },
     "metadata": {
      "needs_background": "light"
     },
     "output_type": "display_data"
    }
   ],
   "source": [
    "data = pd.read_csv(\"not_enough_credit_JIF_15.csv\")\n",
    "print(len(data))\n",
    "#data = data[data.hits != data.glam]\n",
    "print(len(data))\n",
    "data['age'] =data['endyear'] - data['startyear']\n",
    "\n",
    "early = data[data.age <= 5]\n",
    "senior = data[data.age > 10]\n",
    "mid = data[data.age <= 10]\n",
    "mid = mid[mid.age > 5]\n",
    "\n",
    "data['dif'] = data['hits'] - data['glam']\n",
    "data['dif'].hist()\n",
    "\n",
    "#w, pvalue = stats.shapiro(data['dif'])\n",
    "#print(w,\" pvalue \", pvalue)\n",
    "\n",
    "print(stats.ttest_rel(data['hits'], data['glam'], alternative='greater'))\n",
    "\n",
    "\n",
    "\n",
    "mn = data['dif'].mean()\n",
    "data['dif'] = data['dif'] - mn\n",
    "data['dif'] = data['dif'] * data['dif']\n",
    "a = data['dif'].sum()\n",
    "a = a/(len(data)-1)\n",
    "a = math.sqrt(a)\n",
    "t = mn/(a/math.sqrt(len(data)))\n",
    "print(t)"
   ]
  },
  {
   "cell_type": "code",
   "execution_count": 16,
   "id": "6ae11eed",
   "metadata": {},
   "outputs": [
    {
     "name": "stdout",
     "output_type": "stream",
     "text": [
      "50422\n",
      "50422\n",
      "early\n",
      "Ttest_relResult(statistic=18.876715668220275, pvalue=9.049375221567279e-75)\n",
      "18.876715668220236\n",
      "df  2533\n"
     ]
    },
    {
     "data": {
      "image/png": "[encoded data removed]",
      "text/plain": [
       "<Figure size 432x288 with 1 Axes>"
      ]
     },
     "metadata": {
      "needs_background": "light"
     },
     "output_type": "display_data"
    }
   ],
   "source": [
    "data = pd.read_csv(\"not_enough_credit_JIF_15.csv\")\n",
    "print(len(data))\n",
    "#data = data[data.hits != data.glam]\n",
    "print(len(data))\n",
    "data['age'] =data['endyear'] - data['startyear']\n",
    "\n",
    "early = data[data.age <= 5]\n",
    "senior = data[data.age > 10]\n",
    "mid = data[data.age <= 10]\n",
    "mid = mid[mid.age > 5]\n",
    "\n",
    "\n",
    "data = early.copy()\n",
    "data['dif'] = data['hits'] - data['glam']\n",
    "data['dif'].hist()\n",
    "\n",
    "#w, pvalue = stats.shapiro(data['dif'])\n",
    "#print(w,\" pvalue \", pvalue)\n",
    "\n",
    "print(\"early\")\n",
    "print(stats.ttest_rel(early['hits'], early['glam'], alternative='greater'))\n",
    "\n",
    "\n",
    "\n",
    "mn = data['dif'].mean()\n",
    "data['dif'] = data['dif'] - mn\n",
    "data['dif'] = data['dif'] * data['dif']\n",
    "a = data['dif'].sum()\n",
    "a = a/(len(data)-1)\n",
    "a = math.sqrt(a)\n",
    "t = mn/(a/math.sqrt(len(data)))\n",
    "print(t)\n",
    "print(\"df \",len(data)-1)"
   ]
  },
  {
   "cell_type": "code",
   "execution_count": 5,
   "id": "b04a7710",
   "metadata": {},
   "outputs": [
    {
     "name": "stdout",
     "output_type": "stream",
     "text": [
      "50422\n",
      "50422\n",
      "mid\n",
      "Ttest_relResult(statistic=47.55034780436889, pvalue=0.0)\n",
      "47.55034780436874\n",
      "df  5291\n"
     ]
    },
    {
     "data": {
      "image/png": "[encoded data removed]",
      "text/plain": [
       "<Figure size 432x288 with 1 Axes>"
      ]
     },
     "metadata": {
      "needs_background": "light"
     },
     "output_type": "display_data"
    }
   ],
   "source": [
    "data = pd.read_csv(\"not_enough_credit_JIF_15.csv\")\n",
    "print(len(data))\n",
    "#data = data[data.hits != data.glam]\n",
    "print(len(data))\n",
    "data['age'] =data['endyear'] - data['startyear']\n",
    "\n",
    "early = data[data.age <= 5]\n",
    "senior = data[data.age > 10]\n",
    "mid = data[data.age <= 10]\n",
    "mid = mid[mid.age > 5]\n",
    "\n",
    "data = mid.copy()\n",
    "#data = data.head(5000)\n",
    "\n",
    "data['dif'] = data['hits'] - data['glam']\n",
    "data['dif'].hist()\n",
    "\n",
    "#w, pvalue = stats.shapiro(data['dif'])\n",
    "#print(w,\" pvalue \", pvalue)\n",
    "\n",
    "print(\"mid\")\n",
    "print(stats.ttest_rel(mid['hits'], mid['glam'], alternative='greater'))\n",
    "\n",
    "\n",
    "\n",
    "mn = data['dif'].mean()\n",
    "data['dif'] = data['dif'] - mn\n",
    "data['dif'] = data['dif'] * data['dif']\n",
    "a = data['dif'].sum()\n",
    "a = a/(len(data)-1)\n",
    "a = math.sqrt(a)\n",
    "t = mn/(a/math.sqrt(len(data)))\n",
    "print(t)\n",
    "print(\"df \",len(data)-1)"
   ]
  },
  {
   "cell_type": "code",
   "execution_count": 15,
   "id": "15c3b2e8",
   "metadata": {},
   "outputs": [
    {
     "name": "stdout",
     "output_type": "stream",
     "text": [
      "50422\n",
      "50422\n",
      "2534  e\n",
      "5292  m\n",
      "42596  s\n",
      "senior\n",
      "Ttest_relResult(statistic=165.7405245416183, pvalue=0.0)\n",
      "Ttest_relResult(statistic=165.7405245416183, pvalue=0.0)\n",
      "165.7405245416099\n",
      "df  42595\n"
     ]
    },
    {
     "data": {
      "image/png": "[encoded data removed]",
      "text/plain": [
       "<Figure size 432x288 with 1 Axes>"
      ]
     },
     "metadata": {
      "needs_background": "light"
     },
     "output_type": "display_data"
    }
   ],
   "source": [
    "data = pd.read_csv(\"not_enough_credit_JIF_15.csv\")\n",
    "print(len(data))\n",
    "#data = data[data.hits != data.glam]\n",
    "print(len(data))\n",
    "data['age'] =data['endyear'] - data['startyear']\n",
    "\n",
    "early = data[data.age <= 5]\n",
    "senior = data[data.age > 10]\n",
    "mid = data[data.age <= 10]\n",
    "mid = mid[mid.age > 5]\n",
    "\n",
    "print(len(early),\" e\")\n",
    "print(len(mid),\" m\")\n",
    "print(len(senior),\" s\")\n",
    "\n",
    "data = senior.copy()\n",
    "#data = data.head(5000)\n",
    "\n",
    "data['dif'] = data['hits'] - data['glam']\n",
    "data['dif'].hist()\n",
    "\n",
    "#w, pvalue = stats.shapiro(data['dif'])\n",
    "#print(w,\" pvalue \", pvalue)\n",
    "\n",
    "print(\"senior\")\n",
    "\n",
    "#senior = senior.head(5000)\n",
    "print(stats.ttest_rel(senior['hits'], senior['glam'], alternative='greater'))\n",
    "pprint(stats.ttest_rel(senior['hits'], senior['glam'], alternative='greater'))\n",
    "\n",
    "\n",
    "\n",
    "mn = data['dif'].mean()\n",
    "data['dif'] = data['dif'] - mn\n",
    "data['dif'] = data['dif'] * data['dif']\n",
    "a = data['dif'].sum()\n",
    "a = a/(len(data)-1)\n",
    "a = math.sqrt(a)\n",
    "t = mn/(a/math.sqrt(len(data)))\n",
    "print(t)\n",
    "print(\"df \",len(data)-1)"
   ]
  },
  {
   "cell_type": "code",
   "execution_count": null,
   "id": "cff632e8",
   "metadata": {},
   "outputs": [],
   "source": []
  }
 ],
 "metadata": {
  "kernelspec": {
   "display_name": "Python 3",
   "language": "python",
   "name": "python3"
  },
  "language_info": {
   "codemirror_mode": {
    "name": "ipython",
    "version": 3
   },
   "file_extension": ".py",
   "mimetype": "text/x-python",
   "name": "python",
   "nbconvert_exporter": "python",
   "pygments_lexer": "ipython3",
   "version": "3.8.8"
  }
 },
 "nbformat": 4,
 "nbformat_minor": 5
}
