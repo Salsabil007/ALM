{
 "cells": [
  {
   "cell_type": "code",
   "execution_count": 12,
   "id": "81519178",
   "metadata": {},
   "outputs": [],
   "source": [
    "import pandas as pd\n",
    "import numpy as np\n",
    "import matplotlib.pyplot as plt\n",
    "import seaborn as sns\n",
    "import matplotlib.ticker as ticker\n",
    "import math\n",
    "import scipy.stats\n",
    "from scipy import stats\n",
    "from scipy.stats import mannwhitneyu\n",
    "from statsmodels.stats.proportion import proportions_ztest\n",
    "import statsmodels.stats.api as sms\n",
    "from scipy.stats import mannwhitneyu"
   ]
  },
  {
   "cell_type": "code",
   "execution_count": 13,
   "id": "71f9f759",
   "metadata": {},
   "outputs": [
    {
     "name": "stdout",
     "output_type": "stream",
     "text": [
      "50422\n",
      "50413\n"
     ]
    }
   ],
   "source": [
    "data = pd.read_csv(\"not_enough_credit_JIF_15.csv\")\n",
    "print(len(data))\n",
    "data = data.dropna(subset=['white','black','his','asi','oth'])\n",
    "print(len(data))\n",
    "data.to_csv(\"not_enough_credit_JIF_15_no_null_race.csv\")"
   ]
  },
  {
   "cell_type": "markdown",
   "id": "9d0a4684",
   "metadata": {},
   "source": [
    "If your alternative hypothesis is p1 > p2, you use the raw value of z\n",
    "\n",
    "If your alternative hypothesis is p1 < p2, you use the raw value of z\n",
    "\n",
    "If your alternative hypothesis is p1 != p2, you use the abs(z)\n",
    "\n",
    "for P1 > p2 or p1 != p2 as alternative, z = (p1 - p2)/se\n",
    "\n",
    "for P1 < p2 as alternative, z = (p2 - p1)/se"
   ]
  },
  {
   "cell_type": "code",
   "execution_count": 14,
   "id": "ff8bd079",
   "metadata": {},
   "outputs": [],
   "source": [
    "glm_bet = data[data.hits < data.glam]\n",
    "hit_bet = data[data.hits > data.glam]\n",
    "ga = glm_bet[glm_bet.asi > 0.50]\n",
    "gb = glm_bet[glm_bet.black > 0.50]\n",
    "gw = glm_bet[glm_bet.white > 0.50]\n",
    "ha = hit_bet[hit_bet.asi > 0.50]\n",
    "hb = hit_bet[hit_bet.black > 0.50]\n",
    "hw = hit_bet[hit_bet.white > 0.50]\n",
    "gh = glm_bet[glm_bet.his > 0.50]\n",
    "hh = hit_bet[hit_bet.his > 0.50]"
   ]
  },
  {
   "cell_type": "code",
   "execution_count": 18,
   "id": "e7e3e30d",
   "metadata": {},
   "outputs": [
    {
     "name": "stdout",
     "output_type": "stream",
     "text": [
      "x1  5244  n1  32868  x2  495  n2  2297  p1  0.15954728002920773  p2  0.21549847627340007\n",
      "z stat of mine  7.015329857573229  p value of my calculation  2.2940707986015302e-12\n",
      "statistic  -7.015329857573229  p val  2.2940707986015302e-12\n"
     ]
    }
   ],
   "source": [
    "#alternative smaller significant\n",
    "#Calculate the proportion of asian in journal\n",
    "x1 = len(ha)\n",
    "n1 = len(hit_bet)\n",
    "p1 = x1/n1\n",
    "\n",
    "#Calculate the proportion of asian in article\n",
    "x2 = len(ga)\n",
    "n2 = len(glm_bet)\n",
    "p2 = x2/n2\n",
    "\n",
    "print(\"x1 \",x1,\" n1 \", n1,\" x2 \",x2,\" n2 \",n2,\" p1 \",p1, \" p2 \",p2)\n",
    "\n",
    "#print(p1,\" \",p2)\n",
    "\n",
    "#calculate pooled proportion\n",
    "po = (x1+x2)/(n1+n2)\n",
    "\n",
    "#Calculate SE\n",
    "SE = po * (1 - po) * ((1/n1)+(1/n2))\n",
    "se = math.sqrt(SE)\n",
    "\n",
    "z = (p2-p1)/se\n",
    "\n",
    "#p_value = scipy.stats.norm.sf(z)\n",
    "p_value = scipy.stats.norm.sf(abs(z)) * 2\n",
    "print(\"z stat of mine \",z,\" p value of my calculation \",p_value)\n",
    "#print(scipy.stats.norm.cdf(z))\n",
    "#alpha = 0.05\n",
    "\n",
    "successes = np.array([x1, x2])\n",
    "samples = np.array([n1, n2])\n",
    "stat, p_value = proportions_ztest(count=successes, nobs=samples,  alternative='two-sided')\n",
    "print(\"statistic \",stat,\" p val \",p_value)"
   ]
  },
  {
   "cell_type": "code",
   "execution_count": 19,
   "id": "0b701da0",
   "metadata": {},
   "outputs": [
    {
     "name": "stdout",
     "output_type": "stream",
     "text": [
      "x1  319  n1  32868  x2  16  n2  2297  p1  0.009705488621151271  p2  0.006965607313887679\n",
      "z stat of mine  -1.3069382129951643  p value of my calculation  0.19123369668781054\n",
      "statistic  1.3069382129951643  p val  0.19123369668781054\n"
     ]
    }
   ],
   "source": [
    "#none is significant\n",
    "#Calculate the proportion of black in journal\n",
    "x1 = len(hb)\n",
    "n1 = len(hit_bet)\n",
    "p1 = x1/n1\n",
    "\n",
    "#Calculate the proportion of black in article\n",
    "x2 = len(gb)\n",
    "n2 = len(glm_bet)\n",
    "p2 = x2/n2\n",
    "\n",
    "print(\"x1 \",x1,\" n1 \", n1,\" x2 \",x2,\" n2 \",n2,\" p1 \",p1, \" p2 \",p2)\n",
    "\n",
    "#print(p1,\" \",p2)\n",
    "\n",
    "#calculate pooled proportion\n",
    "po = (x1+x2)/(n1+n2)\n",
    "\n",
    "#Calculate SE\n",
    "SE = po * (1 - po) * ((1/n1)+(1/n2))\n",
    "se = math.sqrt(SE)\n",
    "\n",
    "z = (p2-p1)/se\n",
    "\n",
    "#p_value = scipy.stats.norm.sf(z)\n",
    "p_value = scipy.stats.norm.sf(abs(z)) * 2\n",
    "\n",
    "print(\"z stat of mine \",z,\" p value of my calculation \",p_value)\n",
    "#print(scipy.stats.norm.cdf(z))\n",
    "#alpha = 0.05\n",
    "\n",
    "successes = np.array([x1, x2])\n",
    "samples = np.array([n1, n2])\n",
    "stat, p_value = proportions_ztest(count=successes, nobs=samples,  alternative='two-sided')\n",
    "print(\"statistic \",stat,\" p val \",p_value)"
   ]
  },
  {
   "cell_type": "code",
   "execution_count": 23,
   "id": "3de98305",
   "metadata": {},
   "outputs": [
    {
     "name": "stdout",
     "output_type": "stream",
     "text": [
      "x1  25713  n1  32868  x2  1687  n2  2297  p1  0.7823110624315444  p2  0.7344362211580322\n",
      "z stat of mine  5.34790622417364  p value of my calculation  8.897754303782211e-08\n",
      "statistic  5.34790622417364  p val  8.897754303782211e-08\n"
     ]
    }
   ],
   "source": [
    "#larger significant\n",
    "#Calculate the proportion of black in journal\n",
    "x1 = len(hw)\n",
    "n1 = len(hit_bet)\n",
    "p1 = x1/n1\n",
    "\n",
    "#Calculate the proportion of black in article\n",
    "x2 = len(gw)\n",
    "n2 = len(glm_bet)\n",
    "p2 = x2/n2\n",
    "\n",
    "print(\"x1 \",x1,\" n1 \", n1,\" x2 \",x2,\" n2 \",n2,\" p1 \",p1, \" p2 \",p2)\n",
    "\n",
    "#print(p1,\" \",p2)\n",
    "\n",
    "#calculate pooled proportion\n",
    "po = (x1+x2)/(n1+n2)\n",
    "\n",
    "#Calculate SE\n",
    "SE = po * (1 - po) * ((1/n1)+(1/n2))\n",
    "se = math.sqrt(SE)\n",
    "\n",
    "z = (p1-p2)/se\n",
    "\n",
    "#p_value = scipy.stats.norm.sf(z)\n",
    "p_value = scipy.stats.norm.sf(abs(z)) * 2\n",
    "\n",
    "print(\"z stat of mine \",z,\" p value of my calculation \",p_value)\n",
    "#print(scipy.stats.norm.cdf(z))\n",
    "#alpha = 0.05\n",
    "\n",
    "successes = np.array([x1, x2])\n",
    "samples = np.array([n1, n2])\n",
    "stat, p_value = proportions_ztest(count=successes, nobs=samples,  alternative='two-sided')\n",
    "print(\"statistic \",stat,\" p val \",p_value)"
   ]
  },
  {
   "cell_type": "code",
   "execution_count": 24,
   "id": "c0905422",
   "metadata": {},
   "outputs": [
    {
     "name": "stdout",
     "output_type": "stream",
     "text": [
      "x1  1051  n1  32868  x2  65  n2  2297  p1  0.03197639041012535  p2  0.028297779712668697\n",
      "z stat of mine  0.9723486130102792  p value of my calculation  0.3308771470685642\n",
      "statistic  0.9723486130102792  p val  0.3308771470685642\n"
     ]
    }
   ],
   "source": [
    "#nothing is significant\n",
    "#Calculate the proportion of black in journal\n",
    "x1 = len(hh)\n",
    "n1 = len(hit_bet)\n",
    "p1 = x1/n1\n",
    "\n",
    "#Calculate the proportion of black in article\n",
    "x2 = len(gh)\n",
    "n2 = len(glm_bet)\n",
    "p2 = x2/n2\n",
    "\n",
    "print(\"x1 \",x1,\" n1 \", n1,\" x2 \",x2,\" n2 \",n2,\" p1 \",p1, \" p2 \",p2)\n",
    "\n",
    "#print(p1,\" \",p2)\n",
    "\n",
    "#calculate pooled proportion\n",
    "po = (x1+x2)/(n1+n2)\n",
    "\n",
    "#Calculate SE\n",
    "SE = po * (1 - po) * ((1/n1)+(1/n2))\n",
    "se = math.sqrt(SE)\n",
    "\n",
    "z = (p1-p2)/se\n",
    "\n",
    "#p_value = scipy.stats.norm.sf(z)\n",
    "p_value = scipy.stats.norm.sf(abs(z)) * 2\n",
    "\n",
    "print(\"z stat of mine \",z,\" p value of my calculation \",p_value)\n",
    "#print(scipy.stats.norm.cdf(z))\n",
    "#alpha = 0.05\n",
    "\n",
    "successes = np.array([x1, x2])\n",
    "samples = np.array([n1, n2])\n",
    "stat, p_value = proportions_ztest(count=successes, nobs=samples,  alternative='two-sided')\n",
    "print(\"statistic \",stat,\" p val \",p_value)"
   ]
  },
  {
   "cell_type": "markdown",
   "id": "b48e0b05",
   "metadata": {},
   "source": [
    "### Binomial Test"
   ]
  },
  {
   "cell_type": "code",
   "execution_count": 8,
   "id": "1ccd55a1",
   "metadata": {},
   "outputs": [
    {
     "name": "stdout",
     "output_type": "stream",
     "text": [
      "5.439594719904585e-230\n"
     ]
    }
   ],
   "source": [
    "#greater - significant, but will report 2-sided\n",
    "total = len(hh) + len(gh)\n",
    "print(scipy.stats.binom_test(x = [len(hh)],n = total, p = 0.5, alternative = 'two-sided'))"
   ]
  },
  {
   "cell_type": "code",
   "execution_count": 9,
   "id": "695315f9",
   "metadata": {},
   "outputs": [
    {
     "name": "stdout",
     "output_type": "stream",
     "text": [
      "0.0\n"
     ]
    }
   ],
   "source": [
    "#greater - significant\n",
    "total = len(ha) + len(ga)\n",
    "print(scipy.stats.binom_test(x = [len(ha)],n = total, p = 0.5, alternative = 'two-sided'))"
   ]
  },
  {
   "cell_type": "code",
   "execution_count": 10,
   "id": "6c23dd7c",
   "metadata": {},
   "outputs": [
    {
     "name": "stdout",
     "output_type": "stream",
     "text": [
      "2.513347480267395e-74\n"
     ]
    }
   ],
   "source": [
    "#greater - significant\n",
    "total = len(hb) + len(gb)\n",
    "print(scipy.stats.binom_test(x = [len(hb)],n = total, p = 0.5, alternative = 'two-sided'))"
   ]
  },
  {
   "cell_type": "code",
   "execution_count": 11,
   "id": "953cb64e",
   "metadata": {},
   "outputs": [
    {
     "name": "stdout",
     "output_type": "stream",
     "text": [
      "5e-324\n"
     ]
    }
   ],
   "source": [
    "#greater - significant\n",
    "total = len(hw) + len(gw)\n",
    "print(scipy.stats.binom_test(x = [len(hw)],n = total, p = 0.5, alternative = 'two-sided'))"
   ]
  },
  {
   "cell_type": "markdown",
   "id": "5072a73e",
   "metadata": {},
   "source": [
    "### KS test in python"
   ]
  },
  {
   "cell_type": "code",
   "execution_count": 5,
   "id": "0b46faf7",
   "metadata": {},
   "outputs": [],
   "source": [
    "def cumulative_sum(input_list):\n",
    "    # Convert the list to a NumPy array\n",
    "    input_array = np.array(input_list)\n",
    "    # Compute the cumulative sum along the first axis of the array\n",
    "    cumulative_sum_array = np.cumsum(input_array)\n",
    "    # Convert the NumPy array back to a list and return it\n",
    "    return cumulative_sum_array.tolist()"
   ]
  },
  {
   "cell_type": "code",
   "execution_count": 10,
   "id": "007b0a89",
   "metadata": {},
   "outputs": [
    {
     "name": "stdout",
     "output_type": "stream",
     "text": [
      "2297   2297\n",
      "4974.155450381866   438.6864826497286\n",
      "KstestResult(statistic=0.9873748367435786, pvalue=0.0)\n",
      "MannwhitneyuResult(statistic=5218175.0, pvalue=1.0)\n"
     ]
    },
    {
     "data": {
      "text/plain": [
       "'f1 = random.sample(range(1000), 1000)\\nf2 = random.sample(range(10000), 1000)\\n\\nf1.sort()\\nf2.sort()\\nprint(sum(f1)/len(f1),\" \",sum(f2)/len(f2))\\nprint(stats.kstest(f2, f1, alternative = \"greater\"))\\n\\nplt.plot(f2, color = \"red\")\\nplt.plot(f1, color = \"black\")'"
      ]
     },
     "execution_count": 10,
     "metadata": {},
     "output_type": "execute_result"
    },
    {
     "data": {
      "image/png": "[encoded data removed]",
      "text/plain": [
       "<Figure size 432x288 with 1 Axes>"
      ]
     },
     "metadata": {
      "needs_background": "light"
     },
     "output_type": "display_data"
    }
   ],
   "source": [
    "glm_bet = data[data.hits < data.glam]\n",
    "hit_bet = data[data.hits > data.glam]\n",
    "\n",
    "y1 = list(glm_bet['asi'])\n",
    "x1 = list(hit_bet['asi'])\n",
    "\n",
    "x1.sort(reverse = True)\n",
    "y1.sort(reverse = True)\n",
    "\n",
    "x2 = cumulative_sum(x1)\n",
    "y2 = cumulative_sum(y1)\n",
    "\n",
    "random_indices = random.sample(range(len(x2)), len(y2))\n",
    "\n",
    "x3 = [x2[i] for i in random_indices]\n",
    "\n",
    "x3.sort()\n",
    "\n",
    "print(len(x3),\" \",len(y2))\n",
    "\n",
    "print(sum(x3)/len(x3),\" \",sum(y2)/len(y2))\n",
    "\n",
    "a = stats.kstest(x3, y2, alternative = \"less\")\n",
    "#a = stats.ks_2samp(x3, y2, alternative = \"less\")\n",
    "print(a)\n",
    "\n",
    "print(mannwhitneyu(x3,y2,alternative = \"less\"))\n",
    "\n",
    "plt.plot(x3, color = \"red\")\n",
    "plt.plot(y2, color = \"black\")\n",
    "\n",
    "'''f1 = random.sample(range(1000), 1000)\n",
    "f2 = random.sample(range(10000), 1000)\n",
    "\n",
    "f1.sort()\n",
    "f2.sort()\n",
    "print(sum(f1)/len(f1),\" \",sum(f2)/len(f2))\n",
    "print(stats.kstest(f2, f1, alternative = \"greater\"))\n",
    "\n",
    "plt.plot(f2, color = \"red\")\n",
    "plt.plot(f1, color = \"black\")'''"
   ]
  },
  {
   "cell_type": "code",
   "execution_count": 17,
   "id": "561090ae",
   "metadata": {},
   "outputs": [
    {
     "name": "stdout",
     "output_type": "stream",
     "text": [
      "[5, 9, 12, 14, 15]\n"
     ]
    }
   ],
   "source": [
    "def cumulative_sum(input_list):\n",
    "    # Convert the list to a NumPy array\n",
    "    input_array = np.array(input_list)\n",
    "    # Compute the cumulative sum along the first axis of the array\n",
    "    cumulative_sum_array = np.cumsum(input_array)\n",
    "    # Convert the NumPy array back to a list and return it\n",
    "    return cumulative_sum_array.tolist()\n",
    "\n",
    "a = [5,4,3,2,1]\n",
    "b = cumulative_sum(a)\n",
    "print(b)"
   ]
  },
  {
   "cell_type": "code",
   "execution_count": 7,
   "id": "23cf649f",
   "metadata": {},
   "outputs": [
    {
     "name": "stdout",
     "output_type": "stream",
     "text": [
      "Random Indices: [8, 0, 4, 3, 5]\n",
      "Random Values: [90, 10, 50, 40, 60]\n"
     ]
    }
   ],
   "source": [
    "import random\n",
    "\n",
    "# Your list\n",
    "your_list = [10, 20, 30, 40, 50, 60, 70, 80, 90]\n",
    "\n",
    "# Number of random indices to generate\n",
    "n = 5\n",
    "\n",
    "# Generate random indices\n",
    "random_indices = random.sample(range(len(your_list)), n)\n",
    "\n",
    "# Extract values at random indices\n",
    "random_values = [your_list[i] for i in random_indices]\n",
    "\n",
    "print(\"Random Indices:\", random_indices)\n",
    "print(\"Random Values:\", random_values)\n"
   ]
  },
  {
   "cell_type": "code",
   "execution_count": 36,
   "id": "a2bcce40",
   "metadata": {},
   "outputs": [
    {
     "data": {
      "image/png": "[encoded data removed]",
      "text/plain": [
       "<Figure size 432x288 with 1 Axes>"
      ]
     },
     "metadata": {
      "needs_background": "light"
     },
     "output_type": "display_data"
    }
   ],
   "source": [
    "import matplotlib.pyplot as plt\n",
    "\n",
    "# Your list (replace with your actual data)\n",
    "your_list = [10, 20, 30, 40, 50, 60, 70, 80, 90]\n",
    "\n",
    "# Plotting\n",
    "plt.plot(your_list)\n",
    "\n",
    "# Adding labels and title\n",
    "plt.xlabel('Index')\n",
    "plt.ylabel('Value')\n",
    "plt.title('Line Plot of List Values')\n",
    "\n",
    "# Display the plot\n",
    "plt.show()\n"
   ]
  },
  {
   "cell_type": "code",
   "execution_count": null,
   "id": "777fd72d",
   "metadata": {},
   "outputs": [],
   "source": [
    "#https://docs.scipy.org/doc/scipy/reference/generated/scipy.stats.mannwhitneyu.html\n",
    "#Binomial test - read through the documentation"
   ]
  }
 ],
 "metadata": {
  "kernelspec": {
   "display_name": "Python 3",
   "language": "python",
   "name": "python3"
  },
  "language_info": {
   "codemirror_mode": {
    "name": "ipython",
    "version": 3
   },
   "file_extension": ".py",
   "mimetype": "text/x-python",
   "name": "python",
   "nbconvert_exporter": "python",
   "pygments_lexer": "ipython3",
   "version": "3.8.8"
  }
 },
 "nbformat": 4,
 "nbformat_minor": 5
}
