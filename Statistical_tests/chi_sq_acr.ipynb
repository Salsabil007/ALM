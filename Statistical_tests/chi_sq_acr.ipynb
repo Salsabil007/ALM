{
 "cells": [
  {
   "cell_type": "code",
   "execution_count": 1,
   "id": "41392dae",
   "metadata": {},
   "outputs": [
    {
     "name": "stderr",
     "output_type": "stream",
     "text": [
      "/home/arabi/anaconda3/lib/python3.8/site-packages/scipy/__init__.py:138: UserWarning: A NumPy version >=1.16.5 and <1.23.0 is required for this version of SciPy (detected version 1.23.4)\n",
      "  warnings.warn(f\"A NumPy version >={np_minversion} and <{np_maxversion} is required for this version of \"\n"
     ]
    }
   ],
   "source": [
    "import pandas as pd\n",
    "import numpy as np\n",
    "from scipy.stats import chi2_contingency"
   ]
  },
  {
   "cell_type": "code",
   "execution_count": 2,
   "id": "3b4f03a8",
   "metadata": {},
   "outputs": [
    {
     "name": "stdout",
     "output_type": "stream",
     "text": [
      "50422\n",
      "50413\n"
     ]
    }
   ],
   "source": [
    "data = pd.read_csv(\"not_enough_credit_merged_acr_15.csv\")\n",
    "print(len(data))\n",
    "data = data.dropna(subset=['white','black','his','asi','oth'])\n",
    "print(len(data))\n"
   ]
  },
  {
   "cell_type": "code",
   "execution_count": 3,
   "id": "afcccc74",
   "metadata": {},
   "outputs": [
    {
     "name": "stdout",
     "output_type": "stream",
     "text": [
      "254   14   968   30   5568   300   25471   1016\n",
      "statistics  9.26508827184159  p val  0.025966326781765383  dof  3  expected  [[2.19227626e+02 1.18236816e+01 9.95561524e+02 3.93871687e+01]\n",
      " [5.60277237e+03 3.02176318e+02 2.54434385e+04 1.00661283e+03]]\n"
     ]
    }
   ],
   "source": [
    "glm_bet = data[data.hits_acr < data.glam]\n",
    "hit_bet = data[data.hits_acr > data.glam]\n",
    "ga = glm_bet[glm_bet.asi > 0.50]\n",
    "gb = glm_bet[glm_bet.black > 0.50]\n",
    "gw = glm_bet[glm_bet.white > 0.50]\n",
    "ha = hit_bet[hit_bet.asi > 0.50]\n",
    "hb = hit_bet[hit_bet.black > 0.50]\n",
    "hw = hit_bet[hit_bet.white > 0.50]\n",
    "gh = glm_bet[glm_bet.his > 0.50]\n",
    "hh = hit_bet[hit_bet.his > 0.50]\n",
    "print(len(ga),\" \",len(gb),' ',len(gw),\" \",len(gh),\" \",len(ha),\" \",len(hb),\" \",len(hw),\" \",len(hh))\n",
    "table = [[len(ga),len(gb),len(gw),len(gh)],[len(ha),len(hb),len(hw),len(hh)]]\n",
    "stat, p, dof, expected = chi2_contingency(table)\n",
    "print(\"statistics \",stat,\" p val \",p,\" dof \",dof,\" expected \",expected)"
   ]
  },
  {
   "cell_type": "code",
   "execution_count": 9,
   "id": "14a76311",
   "metadata": {},
   "outputs": [
    {
     "name": "stdout",
     "output_type": "stream",
     "text": [
      "10402  ***  18337\n",
      "362   745   10402   18337\n",
      "5.492175134900419  p val  0.019101764093096142   1   [[  399.24103732   707.75896268]\n",
      " [10364.75896268 18374.24103732]]\n"
     ]
    }
   ],
   "source": [
    "data = pd.read_csv(\"not_enough_credit_merged_acr_15.csv\")\n",
    "glm_bet = data[data.hits_acr < data.glam]\n",
    "hit_bet = data[data.hits_acr > data.glam]\n",
    "\n",
    "glm_bet = glm_bet.dropna(subset=['female','male'])\n",
    "gender = [\"Female\" if glm_bet['female'][ind] > glm_bet['male'][ind] else \"Male\" for ind in glm_bet.index]\n",
    "glm_bet['gender'] = gender\n",
    "gm = glm_bet[glm_bet.gender == \"Male\"]\n",
    "gf = glm_bet[glm_bet.gender == \"Female\"]\n",
    "\n",
    "\n",
    "hit_bet = hit_bet.dropna(subset=['female','male'])\n",
    "print(len(hit_bet[hit_bet['female'] > hit_bet['male']]),\" *** \", len(hit_bet[hit_bet['male'] > hit_bet['female']]))\n",
    "gender = [\"Female\" if hit_bet['female'][ind] > hit_bet['male'][ind] else \"Male\" for ind in hit_bet.index]\n",
    "hit_bet['gender'] = gender\n",
    "hm = hit_bet[hit_bet.gender == \"Male\"]\n",
    "hf = hit_bet[hit_bet.gender == \"Female\"]\n",
    "\n",
    "print(len(gf),\" \",len(gm),\" \",len(hf),\" \",len(hm))\n",
    "table = [[len(gf),len(gm)],[len(hf),len(hm)]]\n",
    "stat, p, dof, expected = chi2_contingency(table)\n",
    "print(stat,\" p val \",p,\" \",dof,\" \",expected)"
   ]
  },
  {
   "cell_type": "code",
   "execution_count": 11,
   "id": "7fc34d59",
   "metadata": {},
   "outputs": [
    {
     "name": "stdout",
     "output_type": "stream",
     "text": [
      "45   117   1124   703   2712   29476\n",
      "printing results \n",
      "12.252312288313847  p val  0.0021849635245211434   2   [[2.81454780e+01 1.06448606e+02 1.15140592e+03]\n",
      " [7.19854522e+02 2.72255139e+03 2.94485941e+04]]\n"
     ]
    },
    {
     "name": "stderr",
     "output_type": "stream",
     "text": [
      "<ipython-input-11-9d792911854e>:4: SettingWithCopyWarning: \n",
      "A value is trying to be set on a copy of a slice from a DataFrame.\n",
      "Try using .loc[row_indexer,col_indexer] = value instead\n",
      "\n",
      "See the caveats in the documentation: https://pandas.pydata.org/pandas-docs/stable/user_guide/indexing.html#returning-a-view-versus-a-copy\n",
      "  glm_bet['age'] =glm_bet['endyear'] - glm_bet['startyear']\n",
      "<ipython-input-11-9d792911854e>:5: SettingWithCopyWarning: \n",
      "A value is trying to be set on a copy of a slice from a DataFrame.\n",
      "Try using .loc[row_indexer,col_indexer] = value instead\n",
      "\n",
      "See the caveats in the documentation: https://pandas.pydata.org/pandas-docs/stable/user_guide/indexing.html#returning-a-view-versus-a-copy\n",
      "  hit_bet['age'] =hit_bet['endyear'] - hit_bet['startyear']\n"
     ]
    }
   ],
   "source": [
    "data = pd.read_csv(\"not_enough_credit_merged_acr_15.csv\")\n",
    "glm_bet = data[data.hits_acr < data.glam]\n",
    "hit_bet = data[data.hits_acr > data.glam]\n",
    "glm_bet['age'] =glm_bet['endyear'] - glm_bet['startyear']\n",
    "hit_bet['age'] =hit_bet['endyear'] - hit_bet['startyear']\n",
    "a = len(glm_bet)\n",
    "b = len(hit_bet)\n",
    "\n",
    "\n",
    "glm_bet_early = glm_bet[glm_bet.age <= 5]\n",
    "glm_bet_senior = glm_bet[glm_bet.age > 10]\n",
    "glm_bet_mid = glm_bet[glm_bet.age <= 10]\n",
    "glm_bet_mid = glm_bet_mid[glm_bet_mid.age > 5]\n",
    "\n",
    "ga = len(glm_bet_early)\n",
    "gb = len(glm_bet_mid)\n",
    "gc = len(glm_bet_senior)\n",
    "\n",
    "hit_bet_early = hit_bet[hit_bet.age <= 5]\n",
    "hit_bet_senior = hit_bet[hit_bet.age > 10]\n",
    "hit_bet_mid = hit_bet[hit_bet.age <= 10]\n",
    "hit_bet_mid = hit_bet_mid[hit_bet_mid.age > 5]\n",
    "\n",
    "ha = len(hit_bet_early)\n",
    "hb = len(hit_bet_mid)\n",
    "hc = len(hit_bet_senior)\n",
    "print(ga,\" \",gb, \" \",gc,\" \",ha,\" \",hb,\" \",hc)\n",
    "table = [[ga,gb,gc],[ha,hb,hc]]\n",
    "print(\"printing results \")\n",
    "stat, p, dof, expected = chi2_contingency(table)\n",
    "print(stat,\" p val \",p,\" \",dof,\" \",expected)"
   ]
  },
  {
   "cell_type": "code",
   "execution_count": 13,
   "id": "df2b7e85",
   "metadata": {},
   "outputs": [
    {
     "name": "stdout",
     "output_type": "stream",
     "text": [
      "15253\n",
      "16245\n",
      "314\n"
     ]
    }
   ],
   "source": [
    "print(len(data[data['hits'] == data['glam']]))\n",
    "print(len(data[data['hits_acr'] == data['glam']]))\n",
    "\n",
    "a = data[data['hits_acr'] != data['glam']]\n",
    "print(len(a[a['black'] > 0.50]))"
   ]
  },
  {
   "cell_type": "code",
   "execution_count": null,
   "id": "7cd1d337",
   "metadata": {},
   "outputs": [],
   "source": []
  }
 ],
 "metadata": {
  "kernelspec": {
   "display_name": "Python 3",
   "language": "python",
   "name": "python3"
  },
  "language_info": {
   "codemirror_mode": {
    "name": "ipython",
    "version": 3
   },
   "file_extension": ".py",
   "mimetype": "text/x-python",
   "name": "python",
   "nbconvert_exporter": "python",
   "pygments_lexer": "ipython3",
   "version": "3.8.8"
  }
 },
 "nbformat": 4,
 "nbformat_minor": 5
}
